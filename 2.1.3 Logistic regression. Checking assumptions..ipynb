{
 "cells": [
  {
   "cell_type": "code",
   "execution_count": 1,
   "id": "21d816c6",
   "metadata": {},
   "outputs": [
    {
     "name": "stdout",
     "output_type": "stream",
     "text": [
      "<class 'pandas.core.frame.DataFrame'>\n",
      "RangeIndex: 41188 entries, 0 to 41187\n",
      "Data columns (total 19 columns):\n",
      " #   Column         Non-Null Count  Dtype  \n",
      "---  ------         --------------  -----  \n",
      " 0   Age            41188 non-null  int64  \n",
      " 1   Occupation     41188 non-null  object \n",
      " 2   Status         41188 non-null  object \n",
      " 3   Edu            41188 non-null  object \n",
      " 4   House          41188 non-null  object \n",
      " 5   Loan           41188 non-null  object \n",
      " 6   Comm           41188 non-null  object \n",
      " 7   Month          41188 non-null  object \n",
      " 8   DOW            41188 non-null  object \n",
      " 9   Duration       41188 non-null  int64  \n",
      " 10  Campaign       41188 non-null  int64  \n",
      " 11  PosDays        41188 non-null  int64  \n",
      " 12  Last_out       41188 non-null  object \n",
      " 13  Var_rate       41188 non-null  float64\n",
      " 14  Price_idx      41188 non-null  float64\n",
      " 15  Conf_idx       41188 non-null  float64\n",
      " 16  Month_rate     41188 non-null  float64\n",
      " 17  Quarterly_emp  41188 non-null  float64\n",
      " 18  Target         41188 non-null  int64  \n",
      "dtypes: float64(5), int64(5), object(9)\n",
      "memory usage: 6.0+ MB\n",
      "None\n"
     ]
    },
    {
     "data": {
      "text/html": [
       "<div>\n",
       "<style scoped>\n",
       "    .dataframe tbody tr th:only-of-type {\n",
       "        vertical-align: middle;\n",
       "    }\n",
       "\n",
       "    .dataframe tbody tr th {\n",
       "        vertical-align: top;\n",
       "    }\n",
       "\n",
       "    .dataframe thead th {\n",
       "        text-align: right;\n",
       "    }\n",
       "</style>\n",
       "<table border=\"1\" class=\"dataframe\">\n",
       "  <thead>\n",
       "    <tr style=\"text-align: right;\">\n",
       "      <th></th>\n",
       "      <th>Age</th>\n",
       "      <th>Occupation</th>\n",
       "      <th>Status</th>\n",
       "      <th>Edu</th>\n",
       "      <th>House</th>\n",
       "      <th>Loan</th>\n",
       "      <th>Comm</th>\n",
       "      <th>Month</th>\n",
       "      <th>DOW</th>\n",
       "      <th>Duration</th>\n",
       "      <th>Campaign</th>\n",
       "      <th>PosDays</th>\n",
       "      <th>Last_out</th>\n",
       "      <th>Var_rate</th>\n",
       "      <th>Price_idx</th>\n",
       "      <th>Conf_idx</th>\n",
       "      <th>Month_rate</th>\n",
       "      <th>Quarterly_emp</th>\n",
       "      <th>Target</th>\n",
       "    </tr>\n",
       "  </thead>\n",
       "  <tbody>\n",
       "    <tr>\n",
       "      <th>0</th>\n",
       "      <td>44</td>\n",
       "      <td>blue-collar</td>\n",
       "      <td>married</td>\n",
       "      <td>basic.4y</td>\n",
       "      <td>yes</td>\n",
       "      <td>no</td>\n",
       "      <td>cellular</td>\n",
       "      <td>aug</td>\n",
       "      <td>thu</td>\n",
       "      <td>210</td>\n",
       "      <td>1</td>\n",
       "      <td>999</td>\n",
       "      <td>nonexistent</td>\n",
       "      <td>1.4</td>\n",
       "      <td>93.444</td>\n",
       "      <td>-36.1</td>\n",
       "      <td>4.963</td>\n",
       "      <td>5228.1</td>\n",
       "      <td>0</td>\n",
       "    </tr>\n",
       "    <tr>\n",
       "      <th>1</th>\n",
       "      <td>53</td>\n",
       "      <td>technician</td>\n",
       "      <td>married</td>\n",
       "      <td>unknown</td>\n",
       "      <td>no</td>\n",
       "      <td>no</td>\n",
       "      <td>cellular</td>\n",
       "      <td>nov</td>\n",
       "      <td>fri</td>\n",
       "      <td>138</td>\n",
       "      <td>1</td>\n",
       "      <td>999</td>\n",
       "      <td>nonexistent</td>\n",
       "      <td>-0.1</td>\n",
       "      <td>93.200</td>\n",
       "      <td>-42.0</td>\n",
       "      <td>4.021</td>\n",
       "      <td>5195.8</td>\n",
       "      <td>0</td>\n",
       "    </tr>\n",
       "    <tr>\n",
       "      <th>2</th>\n",
       "      <td>28</td>\n",
       "      <td>management</td>\n",
       "      <td>single</td>\n",
       "      <td>university.degree</td>\n",
       "      <td>yes</td>\n",
       "      <td>no</td>\n",
       "      <td>cellular</td>\n",
       "      <td>jun</td>\n",
       "      <td>thu</td>\n",
       "      <td>339</td>\n",
       "      <td>3</td>\n",
       "      <td>6</td>\n",
       "      <td>success</td>\n",
       "      <td>-1.7</td>\n",
       "      <td>94.055</td>\n",
       "      <td>-39.8</td>\n",
       "      <td>0.729</td>\n",
       "      <td>4991.6</td>\n",
       "      <td>1</td>\n",
       "    </tr>\n",
       "    <tr>\n",
       "      <th>3</th>\n",
       "      <td>39</td>\n",
       "      <td>services</td>\n",
       "      <td>married</td>\n",
       "      <td>high.school</td>\n",
       "      <td>no</td>\n",
       "      <td>no</td>\n",
       "      <td>cellular</td>\n",
       "      <td>apr</td>\n",
       "      <td>fri</td>\n",
       "      <td>185</td>\n",
       "      <td>2</td>\n",
       "      <td>999</td>\n",
       "      <td>nonexistent</td>\n",
       "      <td>-1.8</td>\n",
       "      <td>93.075</td>\n",
       "      <td>-47.1</td>\n",
       "      <td>1.405</td>\n",
       "      <td>5099.1</td>\n",
       "      <td>0</td>\n",
       "    </tr>\n",
       "    <tr>\n",
       "      <th>4</th>\n",
       "      <td>55</td>\n",
       "      <td>retired</td>\n",
       "      <td>married</td>\n",
       "      <td>basic.4y</td>\n",
       "      <td>yes</td>\n",
       "      <td>no</td>\n",
       "      <td>cellular</td>\n",
       "      <td>aug</td>\n",
       "      <td>fri</td>\n",
       "      <td>137</td>\n",
       "      <td>1</td>\n",
       "      <td>3</td>\n",
       "      <td>success</td>\n",
       "      <td>-2.9</td>\n",
       "      <td>92.201</td>\n",
       "      <td>-31.4</td>\n",
       "      <td>0.869</td>\n",
       "      <td>5076.2</td>\n",
       "      <td>1</td>\n",
       "    </tr>\n",
       "  </tbody>\n",
       "</table>\n",
       "</div>"
      ],
      "text/plain": [
       "   Age   Occupation   Status                Edu House Loan      Comm Month  \\\n",
       "0   44  blue-collar  married           basic.4y   yes   no  cellular   aug   \n",
       "1   53   technician  married            unknown    no   no  cellular   nov   \n",
       "2   28   management   single  university.degree   yes   no  cellular   jun   \n",
       "3   39     services  married        high.school    no   no  cellular   apr   \n",
       "4   55      retired  married           basic.4y   yes   no  cellular   aug   \n",
       "\n",
       "   DOW  Duration  Campaign  PosDays     Last_out  Var_rate  Price_idx  \\\n",
       "0  thu       210         1      999  nonexistent       1.4     93.444   \n",
       "1  fri       138         1      999  nonexistent      -0.1     93.200   \n",
       "2  thu       339         3        6      success      -1.7     94.055   \n",
       "3  fri       185         2      999  nonexistent      -1.8     93.075   \n",
       "4  fri       137         1        3      success      -2.9     92.201   \n",
       "\n",
       "   Conf_idx  Month_rate  Quarterly_emp  Target  \n",
       "0     -36.1       4.963         5228.1       0  \n",
       "1     -42.0       4.021         5195.8       0  \n",
       "2     -39.8       0.729         4991.6       1  \n",
       "3     -47.1       1.405         5099.1       0  \n",
       "4     -31.4       0.869         5076.2       1  "
      ]
     },
     "execution_count": 1,
     "metadata": {},
     "output_type": "execute_result"
    }
   ],
   "source": [
    "# Import all the necessary packages.\n",
    "import pandas as pd\n",
    "import numpy as np\n",
    "\n",
    "# Read the provided CSV file/data set.\n",
    "df = pd.read_csv('customer_data.csv') \n",
    "\n",
    "# Print the output.\n",
    "print(df.info())\n",
    "df.head()"
   ]
  },
  {
   "cell_type": "markdown",
   "id": "2da42d35",
   "metadata": {},
   "source": [
    "The first logistic regression assumption to be met is that the output would be binary. The last column of the data set is named Target and consists of binary data (1, 0). We’ve already indicated whether clients have churned as yes (1) and no (0), so the desired outcome should be , as indicated in the Target column. Therefore, Assumption 1 and Assumption 2 have been met, which, recall, were:\n",
    "\n",
    "Assumption 1: Binary logistic regression requires the dependent variable to be binary.\n",
    "Assumption 2: For a binary logistic regression, the factor level 1 of the dependent variable should represent the desired outcome.\n",
    "We’ve established that the data set is large based on the business question. Therefore, Assumption 6 – Logistic regression requires large sample sizes relative to the data collected and the business question – has also been met!"
   ]
  },
  {
   "cell_type": "markdown",
   "id": "6049708f",
   "metadata": {},
   "source": [
    "# Assumption 3: Meaningful variables"
   ]
  },
  {
   "cell_type": "code",
   "execution_count": 2,
   "id": "caf9642d",
   "metadata": {},
   "outputs": [
    {
     "data": {
      "text/plain": [
       "university.degree      12168\n",
       "high.school             9515\n",
       "basic.9y                6045\n",
       "professional.course     5243\n",
       "basic.4y                4176\n",
       "basic.6y                2292\n",
       "unknown                 1731\n",
       "illiterate                18\n",
       "Name: Edu, dtype: int64"
      ]
     },
     "execution_count": 2,
     "metadata": {},
     "output_type": "execute_result"
    }
   ],
   "source": [
    "# Specify the DataFrame column & add/determine the values.\n",
    "df['Edu'].value_counts() "
   ]
  },
  {
   "cell_type": "code",
   "execution_count": 3,
   "id": "76bbdd62",
   "metadata": {},
   "outputs": [
    {
     "data": {
      "text/plain": [
       "array(['pre-school', 'other', 'uni', 'high-school', 'masters'],\n",
       "      dtype=object)"
      ]
     },
     "execution_count": 3,
     "metadata": {},
     "output_type": "execute_result"
    }
   ],
   "source": [
    "# Create two lists: one with initial and one with new values.\n",
    "intial_vals = ['illiterate', 'unknown', 'basic',\n",
    "               'high', 'university', 'professional']\n",
    "\n",
    "new_vals = ['other', 'other', 'pre-school',\n",
    "            'high-school', 'uni', 'masters']\n",
    "\n",
    "# Create a for loop to replace the values.\n",
    "for old_val, new_val in zip(intial_vals, new_vals):\n",
    "    df.loc[df['Edu'].str.contains(old_val),'Edu' ] = new_val\n",
    "\n",
    "# Display all the unique values/check changes.\n",
    "df['Edu'].unique() "
   ]
  },
  {
   "cell_type": "markdown",
   "id": "78870211",
   "metadata": {},
   "source": [
    "An array was created with the changed variables. The output shows all the unique names in the Edu column. As we can see, illiterate and unknown have now been replaced by other."
   ]
  },
  {
   "cell_type": "code",
   "execution_count": 4,
   "id": "f81814f8",
   "metadata": {},
   "outputs": [
    {
     "data": {
      "text/plain": [
       "pre-school     12513\n",
       "uni            12168\n",
       "high-school     9515\n",
       "masters         5243\n",
       "other           1749\n",
       "Name: Edu, dtype: int64"
      ]
     },
     "execution_count": 4,
     "metadata": {},
     "output_type": "execute_result"
    }
   ],
   "source": [
    "df['Edu'].value_counts() "
   ]
  },
  {
   "cell_type": "code",
   "execution_count": 5,
   "id": "85839192",
   "metadata": {},
   "outputs": [
    {
     "data": {
      "text/html": [
       "<div>\n",
       "<style scoped>\n",
       "    .dataframe tbody tr th:only-of-type {\n",
       "        vertical-align: middle;\n",
       "    }\n",
       "\n",
       "    .dataframe tbody tr th {\n",
       "        vertical-align: top;\n",
       "    }\n",
       "\n",
       "    .dataframe thead th {\n",
       "        text-align: right;\n",
       "    }\n",
       "</style>\n",
       "<table border=\"1\" class=\"dataframe\">\n",
       "  <thead>\n",
       "    <tr style=\"text-align: right;\">\n",
       "      <th></th>\n",
       "      <th>Occupation</th>\n",
       "      <th>Status</th>\n",
       "      <th>Edu</th>\n",
       "      <th>House</th>\n",
       "      <th>Loan</th>\n",
       "      <th>Comm</th>\n",
       "      <th>Month</th>\n",
       "      <th>DOW</th>\n",
       "      <th>Last_out</th>\n",
       "    </tr>\n",
       "  </thead>\n",
       "  <tbody>\n",
       "    <tr>\n",
       "      <th>0</th>\n",
       "      <td>blue-collar</td>\n",
       "      <td>married</td>\n",
       "      <td>pre-school</td>\n",
       "      <td>yes</td>\n",
       "      <td>no</td>\n",
       "      <td>cellular</td>\n",
       "      <td>aug</td>\n",
       "      <td>thu</td>\n",
       "      <td>nonexistent</td>\n",
       "    </tr>\n",
       "    <tr>\n",
       "      <th>1</th>\n",
       "      <td>technician</td>\n",
       "      <td>married</td>\n",
       "      <td>other</td>\n",
       "      <td>no</td>\n",
       "      <td>no</td>\n",
       "      <td>cellular</td>\n",
       "      <td>nov</td>\n",
       "      <td>fri</td>\n",
       "      <td>nonexistent</td>\n",
       "    </tr>\n",
       "    <tr>\n",
       "      <th>2</th>\n",
       "      <td>management</td>\n",
       "      <td>single</td>\n",
       "      <td>uni</td>\n",
       "      <td>yes</td>\n",
       "      <td>no</td>\n",
       "      <td>cellular</td>\n",
       "      <td>jun</td>\n",
       "      <td>thu</td>\n",
       "      <td>success</td>\n",
       "    </tr>\n",
       "    <tr>\n",
       "      <th>3</th>\n",
       "      <td>services</td>\n",
       "      <td>married</td>\n",
       "      <td>high-school</td>\n",
       "      <td>no</td>\n",
       "      <td>no</td>\n",
       "      <td>cellular</td>\n",
       "      <td>apr</td>\n",
       "      <td>fri</td>\n",
       "      <td>nonexistent</td>\n",
       "    </tr>\n",
       "    <tr>\n",
       "      <th>4</th>\n",
       "      <td>retired</td>\n",
       "      <td>married</td>\n",
       "      <td>pre-school</td>\n",
       "      <td>yes</td>\n",
       "      <td>no</td>\n",
       "      <td>cellular</td>\n",
       "      <td>aug</td>\n",
       "      <td>fri</td>\n",
       "      <td>success</td>\n",
       "    </tr>\n",
       "    <tr>\n",
       "      <th>...</th>\n",
       "      <td>...</td>\n",
       "      <td>...</td>\n",
       "      <td>...</td>\n",
       "      <td>...</td>\n",
       "      <td>...</td>\n",
       "      <td>...</td>\n",
       "      <td>...</td>\n",
       "      <td>...</td>\n",
       "      <td>...</td>\n",
       "    </tr>\n",
       "    <tr>\n",
       "      <th>41183</th>\n",
       "      <td>retired</td>\n",
       "      <td>married</td>\n",
       "      <td>high-school</td>\n",
       "      <td>no</td>\n",
       "      <td>yes</td>\n",
       "      <td>telephone</td>\n",
       "      <td>jun</td>\n",
       "      <td>thu</td>\n",
       "      <td>nonexistent</td>\n",
       "    </tr>\n",
       "    <tr>\n",
       "      <th>41184</th>\n",
       "      <td>housemaid</td>\n",
       "      <td>married</td>\n",
       "      <td>pre-school</td>\n",
       "      <td>no</td>\n",
       "      <td>no</td>\n",
       "      <td>telephone</td>\n",
       "      <td>may</td>\n",
       "      <td>thu</td>\n",
       "      <td>nonexistent</td>\n",
       "    </tr>\n",
       "    <tr>\n",
       "      <th>41185</th>\n",
       "      <td>admin.</td>\n",
       "      <td>single</td>\n",
       "      <td>uni</td>\n",
       "      <td>yes</td>\n",
       "      <td>yes</td>\n",
       "      <td>telephone</td>\n",
       "      <td>may</td>\n",
       "      <td>wed</td>\n",
       "      <td>nonexistent</td>\n",
       "    </tr>\n",
       "    <tr>\n",
       "      <th>41186</th>\n",
       "      <td>technician</td>\n",
       "      <td>married</td>\n",
       "      <td>masters</td>\n",
       "      <td>no</td>\n",
       "      <td>yes</td>\n",
       "      <td>telephone</td>\n",
       "      <td>oct</td>\n",
       "      <td>tue</td>\n",
       "      <td>nonexistent</td>\n",
       "    </tr>\n",
       "    <tr>\n",
       "      <th>41187</th>\n",
       "      <td>student</td>\n",
       "      <td>single</td>\n",
       "      <td>high-school</td>\n",
       "      <td>no</td>\n",
       "      <td>no</td>\n",
       "      <td>telephone</td>\n",
       "      <td>may</td>\n",
       "      <td>fri</td>\n",
       "      <td>nonexistent</td>\n",
       "    </tr>\n",
       "  </tbody>\n",
       "</table>\n",
       "<p>41188 rows × 9 columns</p>\n",
       "</div>"
      ],
      "text/plain": [
       "        Occupation   Status          Edu House Loan       Comm Month  DOW  \\\n",
       "0      blue-collar  married   pre-school   yes   no   cellular   aug  thu   \n",
       "1       technician  married        other    no   no   cellular   nov  fri   \n",
       "2       management   single          uni   yes   no   cellular   jun  thu   \n",
       "3         services  married  high-school    no   no   cellular   apr  fri   \n",
       "4          retired  married   pre-school   yes   no   cellular   aug  fri   \n",
       "...            ...      ...          ...   ...  ...        ...   ...  ...   \n",
       "41183      retired  married  high-school    no  yes  telephone   jun  thu   \n",
       "41184    housemaid  married   pre-school    no   no  telephone   may  thu   \n",
       "41185       admin.   single          uni   yes  yes  telephone   may  wed   \n",
       "41186   technician  married      masters    no  yes  telephone   oct  tue   \n",
       "41187      student   single  high-school    no   no  telephone   may  fri   \n",
       "\n",
       "          Last_out  \n",
       "0      nonexistent  \n",
       "1      nonexistent  \n",
       "2          success  \n",
       "3      nonexistent  \n",
       "4          success  \n",
       "...            ...  \n",
       "41183  nonexistent  \n",
       "41184  nonexistent  \n",
       "41185  nonexistent  \n",
       "41186  nonexistent  \n",
       "41187  nonexistent  \n",
       "\n",
       "[41188 rows x 9 columns]"
      ]
     },
     "execution_count": 5,
     "metadata": {},
     "output_type": "execute_result"
    }
   ],
   "source": [
    "# To convert strings to numbers, follow these prompts:\n",
    "# Import the necessary modules, classes, and packages.\n",
    "from sklearn.preprocessing import LabelEncoder\n",
    "from sklearn.utils.validation import column_or_1d\n",
    "\n",
    "# Create a class and write a user-defined function.\n",
    "class MyLabelEncoder(LabelEncoder):\n",
    "    \n",
    "    def fit(self, y):\n",
    "        y = column_or_1d(y, warn=True)\n",
    "        self.classes_ = pd.Series(y).unique()\n",
    "        return self\n",
    "\n",
    "# View the output.\n",
    "df.select_dtypes(include='object')"
   ]
  },
  {
   "cell_type": "code",
   "execution_count": 6,
   "id": "4ca36da0",
   "metadata": {},
   "outputs": [],
   "source": [
    "# Order lists of the values for each column containing strings.\n",
    "Edu_order = ['other', 'pre-school', 'high-school', 'uni', 'masters']\n",
    "House_order = ['no', 'unknown', 'yes']\n",
    "Loan_order = ['no', 'unknown', 'yes']\n",
    "Month_order = ['mar', 'apr', 'may', 'jun', 'jul', 'aug', 'sep', 'oct',\n",
    "               'nov', 'dec']\n",
    "DOW_order = ['mon', 'tue', 'wed', 'thu', 'fri']\n",
    "Last_out_order = ['nonexistent', 'failure', 'success']\n",
    "\n",
    "# List of values to transform into numbers even though the values are not ordered.\n",
    "Occupation_list = ['unemployed', 'unknown', 'student', 'blue-collar',\n",
    "                   'technician', 'housemaid', 'admin.','retired',\n",
    "                   'self-employed', 'entrepreneur', 'management', 'services']\n",
    "Status_list = ['unknown', 'single', 'divorced', 'married']\n",
    "Comm_list = ['cellular', 'telephone']\n",
    "\n",
    "# Create a list containing all of the list of values.\n",
    "Encoding_list = [Occupation_list, Status_list, Edu_order, House_order,\n",
    "                 Loan_order, Comm_list, Month_order, DOW_order, Last_out_order]"
   ]
  },
  {
   "cell_type": "code",
   "execution_count": 7,
   "id": "36974589",
   "metadata": {},
   "outputs": [
    {
     "data": {
      "text/html": [
       "<div>\n",
       "<style scoped>\n",
       "    .dataframe tbody tr th:only-of-type {\n",
       "        vertical-align: middle;\n",
       "    }\n",
       "\n",
       "    .dataframe tbody tr th {\n",
       "        vertical-align: top;\n",
       "    }\n",
       "\n",
       "    .dataframe thead th {\n",
       "        text-align: right;\n",
       "    }\n",
       "</style>\n",
       "<table border=\"1\" class=\"dataframe\">\n",
       "  <thead>\n",
       "    <tr style=\"text-align: right;\">\n",
       "      <th></th>\n",
       "      <th>Age</th>\n",
       "      <th>Occupation</th>\n",
       "      <th>Status</th>\n",
       "      <th>Edu</th>\n",
       "      <th>House</th>\n",
       "      <th>Loan</th>\n",
       "      <th>Comm</th>\n",
       "      <th>Month</th>\n",
       "      <th>DOW</th>\n",
       "      <th>Duration</th>\n",
       "      <th>Campaign</th>\n",
       "      <th>PosDays</th>\n",
       "      <th>Last_out</th>\n",
       "      <th>Var_rate</th>\n",
       "      <th>Price_idx</th>\n",
       "      <th>Conf_idx</th>\n",
       "      <th>Month_rate</th>\n",
       "      <th>Quarterly_emp</th>\n",
       "      <th>Target</th>\n",
       "    </tr>\n",
       "  </thead>\n",
       "  <tbody>\n",
       "    <tr>\n",
       "      <th>0</th>\n",
       "      <td>44</td>\n",
       "      <td>3</td>\n",
       "      <td>3</td>\n",
       "      <td>1</td>\n",
       "      <td>2</td>\n",
       "      <td>0</td>\n",
       "      <td>0</td>\n",
       "      <td>5</td>\n",
       "      <td>3</td>\n",
       "      <td>210</td>\n",
       "      <td>1</td>\n",
       "      <td>999</td>\n",
       "      <td>0</td>\n",
       "      <td>1.4</td>\n",
       "      <td>93.444</td>\n",
       "      <td>-36.1</td>\n",
       "      <td>4.963</td>\n",
       "      <td>5228.1</td>\n",
       "      <td>0</td>\n",
       "    </tr>\n",
       "    <tr>\n",
       "      <th>1</th>\n",
       "      <td>53</td>\n",
       "      <td>4</td>\n",
       "      <td>3</td>\n",
       "      <td>0</td>\n",
       "      <td>0</td>\n",
       "      <td>0</td>\n",
       "      <td>0</td>\n",
       "      <td>8</td>\n",
       "      <td>4</td>\n",
       "      <td>138</td>\n",
       "      <td>1</td>\n",
       "      <td>999</td>\n",
       "      <td>0</td>\n",
       "      <td>-0.1</td>\n",
       "      <td>93.200</td>\n",
       "      <td>-42.0</td>\n",
       "      <td>4.021</td>\n",
       "      <td>5195.8</td>\n",
       "      <td>0</td>\n",
       "    </tr>\n",
       "    <tr>\n",
       "      <th>2</th>\n",
       "      <td>28</td>\n",
       "      <td>10</td>\n",
       "      <td>1</td>\n",
       "      <td>3</td>\n",
       "      <td>2</td>\n",
       "      <td>0</td>\n",
       "      <td>0</td>\n",
       "      <td>3</td>\n",
       "      <td>3</td>\n",
       "      <td>339</td>\n",
       "      <td>3</td>\n",
       "      <td>6</td>\n",
       "      <td>2</td>\n",
       "      <td>-1.7</td>\n",
       "      <td>94.055</td>\n",
       "      <td>-39.8</td>\n",
       "      <td>0.729</td>\n",
       "      <td>4991.6</td>\n",
       "      <td>1</td>\n",
       "    </tr>\n",
       "    <tr>\n",
       "      <th>3</th>\n",
       "      <td>39</td>\n",
       "      <td>11</td>\n",
       "      <td>3</td>\n",
       "      <td>2</td>\n",
       "      <td>0</td>\n",
       "      <td>0</td>\n",
       "      <td>0</td>\n",
       "      <td>1</td>\n",
       "      <td>4</td>\n",
       "      <td>185</td>\n",
       "      <td>2</td>\n",
       "      <td>999</td>\n",
       "      <td>0</td>\n",
       "      <td>-1.8</td>\n",
       "      <td>93.075</td>\n",
       "      <td>-47.1</td>\n",
       "      <td>1.405</td>\n",
       "      <td>5099.1</td>\n",
       "      <td>0</td>\n",
       "    </tr>\n",
       "    <tr>\n",
       "      <th>4</th>\n",
       "      <td>55</td>\n",
       "      <td>7</td>\n",
       "      <td>3</td>\n",
       "      <td>1</td>\n",
       "      <td>2</td>\n",
       "      <td>0</td>\n",
       "      <td>0</td>\n",
       "      <td>5</td>\n",
       "      <td>4</td>\n",
       "      <td>137</td>\n",
       "      <td>1</td>\n",
       "      <td>3</td>\n",
       "      <td>2</td>\n",
       "      <td>-2.9</td>\n",
       "      <td>92.201</td>\n",
       "      <td>-31.4</td>\n",
       "      <td>0.869</td>\n",
       "      <td>5076.2</td>\n",
       "      <td>1</td>\n",
       "    </tr>\n",
       "  </tbody>\n",
       "</table>\n",
       "</div>"
      ],
      "text/plain": [
       "   Age  Occupation  Status  Edu  House  Loan  Comm  Month  DOW  Duration  \\\n",
       "0   44           3       3    1      2     0     0      5    3       210   \n",
       "1   53           4       3    0      0     0     0      8    4       138   \n",
       "2   28          10       1    3      2     0     0      3    3       339   \n",
       "3   39          11       3    2      0     0     0      1    4       185   \n",
       "4   55           7       3    1      2     0     0      5    4       137   \n",
       "\n",
       "   Campaign  PosDays  Last_out  Var_rate  Price_idx  Conf_idx  Month_rate  \\\n",
       "0         1      999         0       1.4     93.444     -36.1       4.963   \n",
       "1         1      999         0      -0.1     93.200     -42.0       4.021   \n",
       "2         3        6         2      -1.7     94.055     -39.8       0.729   \n",
       "3         2      999         0      -1.8     93.075     -47.1       1.405   \n",
       "4         1        3         2      -2.9     92.201     -31.4       0.869   \n",
       "\n",
       "   Quarterly_emp  Target  \n",
       "0         5228.1       0  \n",
       "1         5195.8       0  \n",
       "2         4991.6       1  \n",
       "3         5099.1       0  \n",
       "4         5076.2       1  "
      ]
     },
     "execution_count": 7,
     "metadata": {},
     "output_type": "execute_result"
    }
   ],
   "source": [
    "# Pick non-numerical columns.\n",
    "object_cols = df.select_dtypes(include= 'object').columns\n",
    "\n",
    "# Transform string values to number with our LabelEncoder function.\n",
    "for idx in range(len(object_cols)): \n",
    "    \n",
    "    le = MyLabelEncoder()\n",
    "    le.fit(Encoding_list[idx])\n",
    "    df[object_cols[idx]] = le.transform(df[object_cols[idx]])\n",
    "    \n",
    "# View the DataFrame.\n",
    "df.head()"
   ]
  },
  {
   "cell_type": "code",
   "execution_count": 8,
   "id": "68d397e6",
   "metadata": {},
   "outputs": [
    {
     "data": {
      "text/plain": [
       "0    36548\n",
       "1     4640\n",
       "Name: Target, dtype: int64"
      ]
     },
     "execution_count": 8,
     "metadata": {},
     "output_type": "execute_result"
    }
   ],
   "source": [
    "# Determine whether values in a column are balanced.\n",
    "df['Target'].value_counts()  "
   ]
  },
  {
   "cell_type": "code",
   "execution_count": 9,
   "id": "aa2e6e9e",
   "metadata": {},
   "outputs": [
    {
     "data": {
      "text/plain": [
       "Text(0.5, 1.0, 'Target Imbalance')"
      ]
     },
     "execution_count": 9,
     "metadata": {},
     "output_type": "execute_result"
    },
    {
     "data": {
      "image/png": "[encoded data removed]",
      "text/plain": [
       "<Figure size 432x288 with 1 Axes>"
      ]
     },
     "metadata": {},
     "output_type": "display_data"
    }
   ],
   "source": [
    "# Create a plot with Seaborn.\n",
    "import seaborn as sns\n",
    "\n",
    "sns.set_theme(style='darkgrid')\n",
    "ax = sns.countplot(x='Target', data=df)\n",
    "ax.set_title('Target Imbalance')"
   ]
  },
  {
   "cell_type": "code",
   "execution_count": 10,
   "id": "409fc9f7",
   "metadata": {},
   "outputs": [
    {
     "name": "stdout",
     "output_type": "stream",
     "text": [
      "Requirement already satisfied: imblearn in /Users/irinap/opt/anaconda3/lib/python3.9/site-packages (0.0)\n",
      "Requirement already satisfied: imbalanced-learn in /Users/irinap/opt/anaconda3/lib/python3.9/site-packages (from imblearn) (0.9.1)\n",
      "Requirement already satisfied: scikit-learn>=1.1.0 in /Users/irinap/opt/anaconda3/lib/python3.9/site-packages (from imbalanced-learn->imblearn) (1.1.3)\n",
      "Requirement already satisfied: numpy>=1.17.3 in /Users/irinap/opt/anaconda3/lib/python3.9/site-packages (from imbalanced-learn->imblearn) (1.21.5)\n",
      "Requirement already satisfied: scipy>=1.3.2 in /Users/irinap/opt/anaconda3/lib/python3.9/site-packages (from imbalanced-learn->imblearn) (1.7.3)\n",
      "Requirement already satisfied: threadpoolctl>=2.0.0 in /Users/irinap/opt/anaconda3/lib/python3.9/site-packages (from imbalanced-learn->imblearn) (2.2.0)\n",
      "Requirement already satisfied: joblib>=1.0.0 in /Users/irinap/opt/anaconda3/lib/python3.9/site-packages (from imbalanced-learn->imblearn) (1.1.0)\n",
      "Requirement already satisfied: scipy in /Users/irinap/opt/anaconda3/lib/python3.9/site-packages (1.7.3)\n",
      "Requirement already satisfied: numpy<1.23.0,>=1.16.5 in /Users/irinap/opt/anaconda3/lib/python3.9/site-packages (from scipy) (1.21.5)\n",
      "Requirement already satisfied: scikit-learn in /Users/irinap/opt/anaconda3/lib/python3.9/site-packages (1.1.3)\n",
      "Requirement already satisfied: scipy>=1.3.2 in /Users/irinap/opt/anaconda3/lib/python3.9/site-packages (from scikit-learn) (1.7.3)\n",
      "Requirement already satisfied: joblib>=1.0.0 in /Users/irinap/opt/anaconda3/lib/python3.9/site-packages (from scikit-learn) (1.1.0)\n",
      "Requirement already satisfied: threadpoolctl>=2.0.0 in /Users/irinap/opt/anaconda3/lib/python3.9/site-packages (from scikit-learn) (2.2.0)\n",
      "Requirement already satisfied: numpy>=1.17.3 in /Users/irinap/opt/anaconda3/lib/python3.9/site-packages (from scikit-learn) (1.21.5)\n",
      "Requirement already satisfied: SMOTE in /Users/irinap/opt/anaconda3/lib/python3.9/site-packages (0.1)\n",
      "Requirement already satisfied: numpy>=1.14.3 in /Users/irinap/opt/anaconda3/lib/python3.9/site-packages (from SMOTE) (1.21.5)\n",
      "Requirement already satisfied: scikit-learn>=0.19.1 in /Users/irinap/opt/anaconda3/lib/python3.9/site-packages (from SMOTE) (1.1.3)\n",
      "Requirement already satisfied: joblib>=1.0.0 in /Users/irinap/opt/anaconda3/lib/python3.9/site-packages (from scikit-learn>=0.19.1->SMOTE) (1.1.0)\n",
      "Requirement already satisfied: scipy>=1.3.2 in /Users/irinap/opt/anaconda3/lib/python3.9/site-packages (from scikit-learn>=0.19.1->SMOTE) (1.7.3)\n",
      "Requirement already satisfied: threadpoolctl>=2.0.0 in /Users/irinap/opt/anaconda3/lib/python3.9/site-packages (from scikit-learn>=0.19.1->SMOTE) (2.2.0)\n"
     ]
    }
   ],
   "source": [
    "# Handles unbalanced data (scikit-learn needed).\n",
    "!pip install imblearn  \n",
    "\n",
    "# Optimised linear, algebra, integrations (scientific).\n",
    "!pip install scipy  \n",
    "\n",
    "# Simple tools for predictive data analytics.\n",
    "!pip install scikit-learn  \n",
    "\n",
    "# Oversampling technique; creates new samples from data.\n",
    "!pip install SMOTE "
   ]
  },
  {
   "cell_type": "code",
   "execution_count": 11,
   "id": "ca403872",
   "metadata": {},
   "outputs": [
    {
     "name": "stdout",
     "output_type": "stream",
     "text": [
      "   Age  Occupation  Status  Edu  House  Loan  Comm  Month  DOW  Duration  \\\n",
      "0   31           4       1    3      0     0     0      8    1       259   \n",
      "1   44           6       3    4      2     0     1      2    0       300   \n",
      "2   43          10       3    4      2     0     1      2    0       134   \n",
      "3   35           3       3    1      0     0     0      8    1       169   \n",
      "4   33           6       1    3      2     2     0      2    3       255   \n",
      "\n",
      "   Campaign  PosDays  Last_out  Var_rate  Price_idx  Conf_idx  Month_rate  \\\n",
      "0         1      999         1      -0.1     93.200     -42.0       4.153   \n",
      "1         1      999         0       1.1     93.994     -36.4       4.857   \n",
      "2         1      999         0       1.1     93.994     -36.4       4.857   \n",
      "3         2      999         0      -0.1     93.200     -42.0       4.153   \n",
      "4         2      999         1      -1.8     92.893     -46.2       1.266   \n",
      "\n",
      "   Quarterly_emp  \n",
      "0         5195.8  \n",
      "1         5191.0  \n",
      "2         5191.0  \n",
      "3         5195.8  \n",
      "4         5099.1  \n"
     ]
    },
    {
     "data": {
      "text/html": [
       "<div>\n",
       "<style scoped>\n",
       "    .dataframe tbody tr th:only-of-type {\n",
       "        vertical-align: middle;\n",
       "    }\n",
       "\n",
       "    .dataframe tbody tr th {\n",
       "        vertical-align: top;\n",
       "    }\n",
       "\n",
       "    .dataframe thead th {\n",
       "        text-align: right;\n",
       "    }\n",
       "</style>\n",
       "<table border=\"1\" class=\"dataframe\">\n",
       "  <thead>\n",
       "    <tr style=\"text-align: right;\">\n",
       "      <th></th>\n",
       "      <th>Target</th>\n",
       "    </tr>\n",
       "  </thead>\n",
       "  <tbody>\n",
       "    <tr>\n",
       "      <th>0</th>\n",
       "      <td>0</td>\n",
       "    </tr>\n",
       "    <tr>\n",
       "      <th>1</th>\n",
       "      <td>0</td>\n",
       "    </tr>\n",
       "    <tr>\n",
       "      <th>2</th>\n",
       "      <td>0</td>\n",
       "    </tr>\n",
       "    <tr>\n",
       "      <th>3</th>\n",
       "      <td>0</td>\n",
       "    </tr>\n",
       "    <tr>\n",
       "      <th>4</th>\n",
       "      <td>0</td>\n",
       "    </tr>\n",
       "  </tbody>\n",
       "</table>\n",
       "</div>"
      ],
      "text/plain": [
       "   Target\n",
       "0       0\n",
       "1       0\n",
       "2       0\n",
       "3       0\n",
       "4       0"
      ]
     },
     "execution_count": 11,
     "metadata": {},
     "output_type": "execute_result"
    }
   ],
   "source": [
    "# Import all the necessary packages:\n",
    "import statsmodels.api as sm   \n",
    "import imblearn\n",
    "from imblearn.over_sampling import SMOTE  \n",
    "from sklearn.model_selection import train_test_split \n",
    "\n",
    "# Set the variables:\n",
    "X = df.drop('Target', axis = 1)\n",
    "y = df['Target']\n",
    "\n",
    "# Apply SMOTE class as the target variable is not balanced.\n",
    "os = SMOTE(random_state=0)\n",
    "X_train, X_test, y_train, y_test = train_test_split(X, y, test_size=0.3, random_state=0)\n",
    "\n",
    "# Specify the new data sets.\n",
    "os_data_X, os_data_y = os.fit_resample(X_train, y_train)  \n",
    "\n",
    "# Create two DataFrames for X and one for y:\n",
    "os_data_X = pd.DataFrame(data = os_data_X, columns = X.columns) \n",
    "\n",
    "os_data_y = pd.DataFrame(data = os_data_y, columns = ['Target'])\n",
    "\n",
    "# View DataFrame.\n",
    "print(os_data_X.head())\n",
    "os_data_y.head()"
   ]
  },
  {
   "cell_type": "code",
   "execution_count": 12,
   "id": "c10979d3",
   "metadata": {},
   "outputs": [
    {
     "data": {
      "text/plain": [
       "0    25567\n",
       "1    25567\n",
       "Name: Target, dtype: int64"
      ]
     },
     "execution_count": 12,
     "metadata": {},
     "output_type": "execute_result"
    }
   ],
   "source": [
    "# Determine whether values in a column are balanced by counting the values.\n",
    "os_data_y['Target'].value_counts()"
   ]
  },
  {
   "cell_type": "code",
   "execution_count": 13,
   "id": "c52c87f0",
   "metadata": {},
   "outputs": [
    {
     "data": {
      "text/plain": [
       "Text(0.5, 1.0, 'New Balanced Target')"
      ]
     },
     "execution_count": 13,
     "metadata": {},
     "output_type": "execute_result"
    },
    {
     "data": {
      "image/png": "[encoded data removed]",
      "text/plain": [
       "<Figure size 432x288 with 1 Axes>"
      ]
     },
     "metadata": {},
     "output_type": "display_data"
    }
   ],
   "source": [
    "\n",
    "sns.set_theme(style ='darkgrid')\n",
    "ax = sns.countplot(x ='Target', data = os_data_y)\n",
    "ax.set_title(\"New Balanced Target\")"
   ]
  },
  {
   "cell_type": "markdown",
   "id": "25d39f50",
   "metadata": {},
   "source": [
    "Notice how each data set contains exactly the same number of zeros and ones. From this, we can conclude the data sets for our analysis contain meaningful variables that are now balanced (Assumption 3). Remember that an unbalanced data set will return poor results, and we needed to use the SMOTE technique to balance the data set."
   ]
  },
  {
   "cell_type": "markdown",
   "id": "c640d601",
   "metadata": {},
   "source": [
    "# Assumption 4: Eliminate multicollinearity"
   ]
  },
  {
   "cell_type": "code",
   "execution_count": 14,
   "id": "f8cf1942",
   "metadata": {},
   "outputs": [
    {
     "data": {
      "text/html": [
       "<div>\n",
       "<style scoped>\n",
       "    .dataframe tbody tr th:only-of-type {\n",
       "        vertical-align: middle;\n",
       "    }\n",
       "\n",
       "    .dataframe tbody tr th {\n",
       "        vertical-align: top;\n",
       "    }\n",
       "\n",
       "    .dataframe thead th {\n",
       "        text-align: right;\n",
       "    }\n",
       "</style>\n",
       "<table border=\"1\" class=\"dataframe\">\n",
       "  <thead>\n",
       "    <tr style=\"text-align: right;\">\n",
       "      <th></th>\n",
       "      <th>feature</th>\n",
       "      <th>VIF</th>\n",
       "    </tr>\n",
       "  </thead>\n",
       "  <tbody>\n",
       "    <tr>\n",
       "      <th>0</th>\n",
       "      <td>Age</td>\n",
       "      <td>18.783790</td>\n",
       "    </tr>\n",
       "    <tr>\n",
       "      <th>1</th>\n",
       "      <td>Occupation</td>\n",
       "      <td>5.169369</td>\n",
       "    </tr>\n",
       "    <tr>\n",
       "      <th>2</th>\n",
       "      <td>Status</td>\n",
       "      <td>9.154831</td>\n",
       "    </tr>\n",
       "    <tr>\n",
       "      <th>3</th>\n",
       "      <td>Edu</td>\n",
       "      <td>5.084178</td>\n",
       "    </tr>\n",
       "    <tr>\n",
       "      <th>4</th>\n",
       "      <td>House</td>\n",
       "      <td>2.206817</td>\n",
       "    </tr>\n",
       "    <tr>\n",
       "      <th>5</th>\n",
       "      <td>Loan</td>\n",
       "      <td>1.207593</td>\n",
       "    </tr>\n",
       "    <tr>\n",
       "      <th>6</th>\n",
       "      <td>Comm</td>\n",
       "      <td>3.863707</td>\n",
       "    </tr>\n",
       "    <tr>\n",
       "      <th>7</th>\n",
       "      <td>Month</td>\n",
       "      <td>7.971358</td>\n",
       "    </tr>\n",
       "    <tr>\n",
       "      <th>8</th>\n",
       "      <td>DOW</td>\n",
       "      <td>2.975899</td>\n",
       "    </tr>\n",
       "    <tr>\n",
       "      <th>9</th>\n",
       "      <td>Duration</td>\n",
       "      <td>2.451436</td>\n",
       "    </tr>\n",
       "    <tr>\n",
       "      <th>10</th>\n",
       "      <td>Campaign</td>\n",
       "      <td>1.928530</td>\n",
       "    </tr>\n",
       "    <tr>\n",
       "      <th>11</th>\n",
       "      <td>PosDays</td>\n",
       "      <td>69.208829</td>\n",
       "    </tr>\n",
       "    <tr>\n",
       "      <th>12</th>\n",
       "      <td>Last_out</td>\n",
       "      <td>3.107406</td>\n",
       "    </tr>\n",
       "    <tr>\n",
       "      <th>13</th>\n",
       "      <td>Var_rate</td>\n",
       "      <td>40.800630</td>\n",
       "    </tr>\n",
       "    <tr>\n",
       "      <th>14</th>\n",
       "      <td>Price_idx</td>\n",
       "      <td>34171.450375</td>\n",
       "    </tr>\n",
       "    <tr>\n",
       "      <th>15</th>\n",
       "      <td>Conf_idx</td>\n",
       "      <td>123.028364</td>\n",
       "    </tr>\n",
       "    <tr>\n",
       "      <th>16</th>\n",
       "      <td>Month_rate</td>\n",
       "      <td>357.016602</td>\n",
       "    </tr>\n",
       "    <tr>\n",
       "      <th>17</th>\n",
       "      <td>Quarterly_emp</td>\n",
       "      <td>39898.724238</td>\n",
       "    </tr>\n",
       "    <tr>\n",
       "      <th>18</th>\n",
       "      <td>Target</td>\n",
       "      <td>1.692424</td>\n",
       "    </tr>\n",
       "  </tbody>\n",
       "</table>\n",
       "</div>"
      ],
      "text/plain": [
       "          feature           VIF\n",
       "0             Age     18.783790\n",
       "1      Occupation      5.169369\n",
       "2          Status      9.154831\n",
       "3             Edu      5.084178\n",
       "4           House      2.206817\n",
       "5            Loan      1.207593\n",
       "6            Comm      3.863707\n",
       "7           Month      7.971358\n",
       "8             DOW      2.975899\n",
       "9        Duration      2.451436\n",
       "10       Campaign      1.928530\n",
       "11        PosDays     69.208829\n",
       "12       Last_out      3.107406\n",
       "13       Var_rate     40.800630\n",
       "14      Price_idx  34171.450375\n",
       "15       Conf_idx    123.028364\n",
       "16     Month_rate    357.016602\n",
       "17  Quarterly_emp  39898.724238\n",
       "18         Target      1.692424"
      ]
     },
     "execution_count": 14,
     "metadata": {},
     "output_type": "execute_result"
    }
   ],
   "source": [
    "# Import the VIF package.\n",
    "from statsmodels.stats.outliers_influence import variance_inflation_factor\n",
    "\n",
    "# Create a VIF dataframe.\n",
    "vif_data = pd.DataFrame()\n",
    "vif_data['feature'] = df.columns\n",
    "  \n",
    "# Calculate VIF for each feature.\n",
    "vif_data['VIF'] = [variance_inflation_factor(df.values, i)\n",
    "                          for i in range(len(df.columns))]\n",
    "\n",
    "# View the output.\n",
    "vif_data"
   ]
  },
  {
   "cell_type": "markdown",
   "id": "19a51338",
   "metadata": {},
   "source": [
    "The values of House, Loan, Comm, DOW, Duration, Campaign, and Last_out are less than 5, while Occupatuion, Status, Edu, and Month are >5 but <10. Therefore, there is no correlation between these 11 ’s."
   ]
  },
  {
   "cell_type": "code",
   "execution_count": 15,
   "id": "cb609c11",
   "metadata": {},
   "outputs": [
    {
     "name": "stdout",
     "output_type": "stream",
     "text": [
      "(41188, 12)\n"
     ]
    },
    {
     "data": {
      "text/html": [
       "<div>\n",
       "<style scoped>\n",
       "    .dataframe tbody tr th:only-of-type {\n",
       "        vertical-align: middle;\n",
       "    }\n",
       "\n",
       "    .dataframe tbody tr th {\n",
       "        vertical-align: top;\n",
       "    }\n",
       "\n",
       "    .dataframe thead th {\n",
       "        text-align: right;\n",
       "    }\n",
       "</style>\n",
       "<table border=\"1\" class=\"dataframe\">\n",
       "  <thead>\n",
       "    <tr style=\"text-align: right;\">\n",
       "      <th></th>\n",
       "      <th>Occupation</th>\n",
       "      <th>Status</th>\n",
       "      <th>Edu</th>\n",
       "      <th>House</th>\n",
       "      <th>Loan</th>\n",
       "      <th>Comm</th>\n",
       "      <th>Month</th>\n",
       "      <th>DOW</th>\n",
       "      <th>Duration</th>\n",
       "      <th>Campaign</th>\n",
       "      <th>Last_out</th>\n",
       "      <th>Target</th>\n",
       "    </tr>\n",
       "  </thead>\n",
       "  <tbody>\n",
       "    <tr>\n",
       "      <th>0</th>\n",
       "      <td>3</td>\n",
       "      <td>3</td>\n",
       "      <td>1</td>\n",
       "      <td>2</td>\n",
       "      <td>0</td>\n",
       "      <td>0</td>\n",
       "      <td>5</td>\n",
       "      <td>3</td>\n",
       "      <td>210</td>\n",
       "      <td>1</td>\n",
       "      <td>0</td>\n",
       "      <td>0</td>\n",
       "    </tr>\n",
       "    <tr>\n",
       "      <th>1</th>\n",
       "      <td>4</td>\n",
       "      <td>3</td>\n",
       "      <td>0</td>\n",
       "      <td>0</td>\n",
       "      <td>0</td>\n",
       "      <td>0</td>\n",
       "      <td>8</td>\n",
       "      <td>4</td>\n",
       "      <td>138</td>\n",
       "      <td>1</td>\n",
       "      <td>0</td>\n",
       "      <td>0</td>\n",
       "    </tr>\n",
       "    <tr>\n",
       "      <th>2</th>\n",
       "      <td>10</td>\n",
       "      <td>1</td>\n",
       "      <td>3</td>\n",
       "      <td>2</td>\n",
       "      <td>0</td>\n",
       "      <td>0</td>\n",
       "      <td>3</td>\n",
       "      <td>3</td>\n",
       "      <td>339</td>\n",
       "      <td>3</td>\n",
       "      <td>2</td>\n",
       "      <td>1</td>\n",
       "    </tr>\n",
       "    <tr>\n",
       "      <th>3</th>\n",
       "      <td>11</td>\n",
       "      <td>3</td>\n",
       "      <td>2</td>\n",
       "      <td>0</td>\n",
       "      <td>0</td>\n",
       "      <td>0</td>\n",
       "      <td>1</td>\n",
       "      <td>4</td>\n",
       "      <td>185</td>\n",
       "      <td>2</td>\n",
       "      <td>0</td>\n",
       "      <td>0</td>\n",
       "    </tr>\n",
       "    <tr>\n",
       "      <th>4</th>\n",
       "      <td>7</td>\n",
       "      <td>3</td>\n",
       "      <td>1</td>\n",
       "      <td>2</td>\n",
       "      <td>0</td>\n",
       "      <td>0</td>\n",
       "      <td>5</td>\n",
       "      <td>4</td>\n",
       "      <td>137</td>\n",
       "      <td>1</td>\n",
       "      <td>2</td>\n",
       "      <td>1</td>\n",
       "    </tr>\n",
       "  </tbody>\n",
       "</table>\n",
       "</div>"
      ],
      "text/plain": [
       "   Occupation  Status  Edu  House  Loan  Comm  Month  DOW  Duration  Campaign  \\\n",
       "0           3       3    1      2     0     0      5    3       210         1   \n",
       "1           4       3    0      0     0     0      8    4       138         1   \n",
       "2          10       1    3      2     0     0      3    3       339         3   \n",
       "3          11       3    2      0     0     0      1    4       185         2   \n",
       "4           7       3    1      2     0     0      5    4       137         1   \n",
       "\n",
       "   Last_out  Target  \n",
       "0         0       0  \n",
       "1         0       0  \n",
       "2         2       1  \n",
       "3         0       0  \n",
       "4         2       1  "
      ]
     },
     "execution_count": 15,
     "metadata": {},
     "output_type": "execute_result"
    }
   ],
   "source": [
    "# Drop the columns with VIF > 10 to avoid multicollinearity problems.\n",
    "df = df.drop(['Age', 'PosDays', 'Var_rate', 'Price_idx',\n",
    "              'Conf_idx', 'Month_rate', 'Quarterly_emp'],\n",
    "             axis = 1)\n",
    "\n",
    "# View the DataFrame.\n",
    "print(df.shape)\n",
    "df.head()"
   ]
  },
  {
   "cell_type": "markdown",
   "id": "a4a9ce21",
   "metadata": {},
   "source": [
    "There are 41,188 rows and 12 columns. The seven columns were dropped successfully."
   ]
  },
  {
   "cell_type": "markdown",
   "id": "b90549db",
   "metadata": {},
   "source": [
    "# Assumption 5: X ’s are linearly related to the log odds"
   ]
  },
  {
   "cell_type": "markdown",
   "id": "30baea7d",
   "metadata": {},
   "source": [
    "The Box-Tidwell test can be used to explore whether the ’s are linearly related to the log odds (Assumption 5). However, the Box-Tidwell test is only applicable to continuous variables. Since we only have one continuous column left (Duration column), we can do a visual check of the linearity with log odds using the Duration column. When having multiple continuous columns or when we can’t visually see the linear relationship, it is better to use Box-Tidwell test. Select the tabs to continue with the demonstration. "
   ]
  },
  {
   "cell_type": "code",
   "execution_count": 17,
   "id": "dc1821e5",
   "metadata": {},
   "outputs": [
    {
     "data": {
      "image/png": "[encoded data removed]",
      "text/plain": [
       "<Figure size 432x288 with 1 Axes>"
      ]
     },
     "metadata": {},
     "output_type": "display_data"
    }
   ],
   "source": [
    "dur = sns.regplot(x = 'Duration',\n",
    "                  y= 'Target',\n",
    "                  data= df,\n",
    "                  logistic= True).set_title(\"Duration Log Odds Linear Plot\")"
   ]
  },
  {
   "cell_type": "markdown",
   "id": "1b9c5582",
   "metadata": {},
   "source": [
    "Now that we’ve tested all the assumptions (2.1.2 Logistic regression), the next step is to select the ’s that we think have an effect on the dependent variable. These ’s are represented in the columns. Therefore, we’ll select only the necessary columns for the BLR. Once we select the variables, we just run the logit function and summarise the model efficacy by checking the -values and . "
   ]
  },
  {
   "cell_type": "markdown",
   "id": "a26226a2",
   "metadata": {},
   "source": [
    "13. Fit the model"
   ]
  },
  {
   "cell_type": "code",
   "execution_count": 18,
   "id": "3f4e973b",
   "metadata": {
    "scrolled": true
   },
   "outputs": [
    {
     "name": "stdout",
     "output_type": "stream",
     "text": [
      "Optimization terminated successfully.\n",
      "         Current function value: 0.419450\n",
      "         Iterations 7\n"
     ]
    },
    {
     "data": {
      "text/html": [
       "<table class=\"simpletable\">\n",
       "<caption>Logit Regression Results</caption>\n",
       "<tr>\n",
       "  <th>Dep. Variable:</th>        <td>Target</td>      <th>  No. Observations:  </th>  <td> 51134</td> \n",
       "</tr>\n",
       "<tr>\n",
       "  <th>Model:</th>                 <td>Logit</td>      <th>  Df Residuals:      </th>  <td> 51123</td> \n",
       "</tr>\n",
       "<tr>\n",
       "  <th>Method:</th>                 <td>MLE</td>       <th>  Df Model:          </th>  <td>    10</td> \n",
       "</tr>\n",
       "<tr>\n",
       "  <th>Date:</th>            <td>Tue, 08 Nov 2022</td> <th>  Pseudo R-squ.:     </th>  <td>0.3949</td> \n",
       "</tr>\n",
       "<tr>\n",
       "  <th>Time:</th>                <td>16:16:04</td>     <th>  Log-Likelihood:    </th> <td> -21448.</td>\n",
       "</tr>\n",
       "<tr>\n",
       "  <th>converged:</th>             <td>True</td>       <th>  LL-Null:           </th> <td> -35443.</td>\n",
       "</tr>\n",
       "<tr>\n",
       "  <th>Covariance Type:</th>     <td>nonrobust</td>    <th>  LLR p-value:       </th>  <td> 0.000</td> \n",
       "</tr>\n",
       "</table>\n",
       "<table class=\"simpletable\">\n",
       "<tr>\n",
       "       <td></td>         <th>coef</th>     <th>std err</th>      <th>z</th>      <th>P>|z|</th>  <th>[0.025</th>    <th>0.975]</th>  \n",
       "</tr>\n",
       "<tr>\n",
       "  <th>Occupation</th> <td>    0.0019</td> <td>    0.004</td> <td>    0.435</td> <td> 0.663</td> <td>   -0.007</td> <td>    0.011</td>\n",
       "</tr>\n",
       "<tr>\n",
       "  <th>Status</th>     <td>   -0.3281</td> <td>    0.012</td> <td>  -27.017</td> <td> 0.000</td> <td>   -0.352</td> <td>   -0.304</td>\n",
       "</tr>\n",
       "<tr>\n",
       "  <th>Edu</th>        <td>   -0.0306</td> <td>    0.011</td> <td>   -2.871</td> <td> 0.004</td> <td>   -0.052</td> <td>   -0.010</td>\n",
       "</tr>\n",
       "<tr>\n",
       "  <th>House</th>      <td>   -0.1744</td> <td>    0.013</td> <td>  -13.857</td> <td> 0.000</td> <td>   -0.199</td> <td>   -0.150</td>\n",
       "</tr>\n",
       "<tr>\n",
       "  <th>Loan</th>       <td>   -0.3542</td> <td>    0.021</td> <td>  -17.106</td> <td> 0.000</td> <td>   -0.395</td> <td>   -0.314</td>\n",
       "</tr>\n",
       "<tr>\n",
       "  <th>Comm</th>       <td>   -1.9852</td> <td>    0.037</td> <td>  -54.114</td> <td> 0.000</td> <td>   -2.057</td> <td>   -1.913</td>\n",
       "</tr>\n",
       "<tr>\n",
       "  <th>Month</th>      <td>   -0.0189</td> <td>    0.005</td> <td>   -3.622</td> <td> 0.000</td> <td>   -0.029</td> <td>   -0.009</td>\n",
       "</tr>\n",
       "<tr>\n",
       "  <th>DOW</th>        <td>   -0.1476</td> <td>    0.009</td> <td>  -16.425</td> <td> 0.000</td> <td>   -0.165</td> <td>   -0.130</td>\n",
       "</tr>\n",
       "<tr>\n",
       "  <th>Duration</th>   <td>    0.0057</td> <td> 5.85e-05</td> <td>   96.803</td> <td> 0.000</td> <td>    0.006</td> <td>    0.006</td>\n",
       "</tr>\n",
       "<tr>\n",
       "  <th>Campaign</th>   <td>   -0.2477</td> <td>    0.009</td> <td>  -29.064</td> <td> 0.000</td> <td>   -0.264</td> <td>   -0.231</td>\n",
       "</tr>\n",
       "<tr>\n",
       "  <th>Last_out</th>   <td>    0.9187</td> <td>    0.020</td> <td>   45.190</td> <td> 0.000</td> <td>    0.879</td> <td>    0.959</td>\n",
       "</tr>\n",
       "</table>"
      ],
      "text/plain": [
       "<class 'statsmodels.iolib.summary.Summary'>\n",
       "\"\"\"\n",
       "                           Logit Regression Results                           \n",
       "==============================================================================\n",
       "Dep. Variable:                 Target   No. Observations:                51134\n",
       "Model:                          Logit   Df Residuals:                    51123\n",
       "Method:                           MLE   Df Model:                           10\n",
       "Date:                Tue, 08 Nov 2022   Pseudo R-squ.:                  0.3949\n",
       "Time:                        16:16:04   Log-Likelihood:                -21448.\n",
       "converged:                       True   LL-Null:                       -35443.\n",
       "Covariance Type:            nonrobust   LLR p-value:                     0.000\n",
       "==============================================================================\n",
       "                 coef    std err          z      P>|z|      [0.025      0.975]\n",
       "------------------------------------------------------------------------------\n",
       "Occupation     0.0019      0.004      0.435      0.663      -0.007       0.011\n",
       "Status        -0.3281      0.012    -27.017      0.000      -0.352      -0.304\n",
       "Edu           -0.0306      0.011     -2.871      0.004      -0.052      -0.010\n",
       "House         -0.1744      0.013    -13.857      0.000      -0.199      -0.150\n",
       "Loan          -0.3542      0.021    -17.106      0.000      -0.395      -0.314\n",
       "Comm          -1.9852      0.037    -54.114      0.000      -2.057      -1.913\n",
       "Month         -0.0189      0.005     -3.622      0.000      -0.029      -0.009\n",
       "DOW           -0.1476      0.009    -16.425      0.000      -0.165      -0.130\n",
       "Duration       0.0057   5.85e-05     96.803      0.000       0.006       0.006\n",
       "Campaign      -0.2477      0.009    -29.064      0.000      -0.264      -0.231\n",
       "Last_out       0.9187      0.020     45.190      0.000       0.879       0.959\n",
       "==============================================================================\n",
       "\"\"\""
      ]
     },
     "execution_count": 18,
     "metadata": {},
     "output_type": "execute_result"
    }
   ],
   "source": [
    "# Name the new DataFrame and specify all the columns for BLR:\n",
    "nec_cols = df.drop('Target', axis = 1).columns\n",
    "\n",
    "# Set the independent variable.\n",
    "X = os_data_X[nec_cols]  \n",
    "\n",
    "# Set the dependent variable.\n",
    "y = os_data_y['Target']  \n",
    "\n",
    "# Set the logit() to accept y and x as parameters and return the logit object.\n",
    "logit_model=sm.Logit(y, X)\n",
    "\n",
    "# Indicate result = logit_model.fit() function.\n",
    "result = logit_model.fit()  \n",
    "\n",
    "# Print the results.\n",
    "result.summary()"
   ]
  },
  {
   "cell_type": "markdown",
   "id": "8f1814fd",
   "metadata": {},
   "source": [
    "14. Determine the accuracy of the model"
   ]
  },
  {
   "cell_type": "code",
   "execution_count": 19,
   "id": "9a30335e",
   "metadata": {},
   "outputs": [
    {
     "name": "stderr",
     "output_type": "stream",
     "text": [
      "/Users/irinap/opt/anaconda3/lib/python3.9/site-packages/sklearn/linear_model/_logistic.py:444: ConvergenceWarning: lbfgs failed to converge (status=1):\n",
      "STOP: TOTAL NO. of ITERATIONS REACHED LIMIT.\n",
      "\n",
      "Increase the number of iterations (max_iter) or scale the data as shown in:\n",
      "    https://scikit-learn.org/stable/modules/preprocessing.html\n",
      "Please also refer to the documentation for alternative solver options:\n",
      "    https://scikit-learn.org/stable/modules/linear_model.html#logistic-regression\n",
      "  n_iter_i = _check_optimize_result(\n"
     ]
    },
    {
     "data": {
      "text/html": [
       "<style>#sk-container-id-1 {color: black;background-color: white;}#sk-container-id-1 pre{padding: 0;}#sk-container-id-1 div.sk-toggleable {background-color: white;}#sk-container-id-1 label.sk-toggleable__label {cursor: pointer;display: block;width: 100%;margin-bottom: 0;padding: 0.3em;box-sizing: border-box;text-align: center;}#sk-container-id-1 label.sk-toggleable__label-arrow:before {content: \"▸\";float: left;margin-right: 0.25em;color: #696969;}#sk-container-id-1 label.sk-toggleable__label-arrow:hover:before {color: black;}#sk-container-id-1 div.sk-estimator:hover label.sk-toggleable__label-arrow:before {color: black;}#sk-container-id-1 div.sk-toggleable__content {max-height: 0;max-width: 0;overflow: hidden;text-align: left;background-color: #f0f8ff;}#sk-container-id-1 div.sk-toggleable__content pre {margin: 0.2em;color: black;border-radius: 0.25em;background-color: #f0f8ff;}#sk-container-id-1 input.sk-toggleable__control:checked~div.sk-toggleable__content {max-height: 200px;max-width: 100%;overflow: auto;}#sk-container-id-1 input.sk-toggleable__control:checked~label.sk-toggleable__label-arrow:before {content: \"▾\";}#sk-container-id-1 div.sk-estimator input.sk-toggleable__control:checked~label.sk-toggleable__label {background-color: #d4ebff;}#sk-container-id-1 div.sk-label input.sk-toggleable__control:checked~label.sk-toggleable__label {background-color: #d4ebff;}#sk-container-id-1 input.sk-hidden--visually {border: 0;clip: rect(1px 1px 1px 1px);clip: rect(1px, 1px, 1px, 1px);height: 1px;margin: -1px;overflow: hidden;padding: 0;position: absolute;width: 1px;}#sk-container-id-1 div.sk-estimator {font-family: monospace;background-color: #f0f8ff;border: 1px dotted black;border-radius: 0.25em;box-sizing: border-box;margin-bottom: 0.5em;}#sk-container-id-1 div.sk-estimator:hover {background-color: #d4ebff;}#sk-container-id-1 div.sk-parallel-item::after {content: \"\";width: 100%;border-bottom: 1px solid gray;flex-grow: 1;}#sk-container-id-1 div.sk-label:hover label.sk-toggleable__label {background-color: #d4ebff;}#sk-container-id-1 div.sk-serial::before {content: \"\";position: absolute;border-left: 1px solid gray;box-sizing: border-box;top: 0;bottom: 0;left: 50%;z-index: 0;}#sk-container-id-1 div.sk-serial {display: flex;flex-direction: column;align-items: center;background-color: white;padding-right: 0.2em;padding-left: 0.2em;position: relative;}#sk-container-id-1 div.sk-item {position: relative;z-index: 1;}#sk-container-id-1 div.sk-parallel {display: flex;align-items: stretch;justify-content: center;background-color: white;position: relative;}#sk-container-id-1 div.sk-item::before, #sk-container-id-1 div.sk-parallel-item::before {content: \"\";position: absolute;border-left: 1px solid gray;box-sizing: border-box;top: 0;bottom: 0;left: 50%;z-index: -1;}#sk-container-id-1 div.sk-parallel-item {display: flex;flex-direction: column;z-index: 1;position: relative;background-color: white;}#sk-container-id-1 div.sk-parallel-item:first-child::after {align-self: flex-end;width: 50%;}#sk-container-id-1 div.sk-parallel-item:last-child::after {align-self: flex-start;width: 50%;}#sk-container-id-1 div.sk-parallel-item:only-child::after {width: 0;}#sk-container-id-1 div.sk-dashed-wrapped {border: 1px dashed gray;margin: 0 0.4em 0.5em 0.4em;box-sizing: border-box;padding-bottom: 0.4em;background-color: white;}#sk-container-id-1 div.sk-label label {font-family: monospace;font-weight: bold;display: inline-block;line-height: 1.2em;}#sk-container-id-1 div.sk-label-container {text-align: center;}#sk-container-id-1 div.sk-container {/* jupyter's `normalize.less` sets `[hidden] { display: none; }` but bootstrap.min.css set `[hidden] { display: none !important; }` so we also need the `!important` here to be able to override the default hidden behavior on the sphinx rendered scikit-learn.org. See: https://github.com/scikit-learn/scikit-learn/issues/21755 */display: inline-block !important;position: relative;}#sk-container-id-1 div.sk-text-repr-fallback {display: none;}</style><div id=\"sk-container-id-1\" class=\"sk-top-container\"><div class=\"sk-text-repr-fallback\"><pre>LogisticRegression()</pre><b>In a Jupyter environment, please rerun this cell to show the HTML representation or trust the notebook. <br />On GitHub, the HTML representation is unable to render, please try loading this page with nbviewer.org.</b></div><div class=\"sk-container\" hidden><div class=\"sk-item\"><div class=\"sk-estimator sk-toggleable\"><input class=\"sk-toggleable__control sk-hidden--visually\" id=\"sk-estimator-id-1\" type=\"checkbox\" checked><label for=\"sk-estimator-id-1\" class=\"sk-toggleable__label sk-toggleable__label-arrow\">LogisticRegression</label><div class=\"sk-toggleable__content\"><pre>LogisticRegression()</pre></div></div></div></div></div>"
      ],
      "text/plain": [
       "LogisticRegression()"
      ]
     },
     "execution_count": 19,
     "metadata": {},
     "output_type": "execute_result"
    }
   ],
   "source": [
    "# Import necessary packages.\n",
    "from sklearn.linear_model import LogisticRegression\n",
    "from sklearn import metrics\n",
    "\n",
    "# Split X and y data sets into ‘train’ and ‘test’ in a 30:70 ratio.\n",
    "X_train, X_test, y_train, y_test = train_test_split(X, y, test_size=0.3,\n",
    "                                                    random_state=0)\n",
    "\n",
    "# Set LogisticRegression() to logreg.\n",
    "logreg = LogisticRegression() \n",
    "\n",
    "# Fit the X_train and y_train data sets to logreg. \n",
    "logreg.fit(X_train, y_train) "
   ]
  },
  {
   "cell_type": "code",
   "execution_count": 20,
   "id": "35bb6012",
   "metadata": {},
   "outputs": [
    {
     "name": "stdout",
     "output_type": "stream",
     "text": [
      "Accuracy of logistic regression classifier on test set: 0.82\n"
     ]
    }
   ],
   "source": [
    "# Determine BLR model’s accuracy:\n",
    "y_pred = logreg.predict(X_test)\n",
    "\n",
    "print('Accuracy of logistic regression classifier on test set: {:.2f}'\\\n",
    "      .format(logreg.score(X_test, y_test)))\n"
   ]
  },
  {
   "cell_type": "markdown",
   "id": "b81517dd",
   "metadata": {},
   "source": [
    "The accuracy is 82% which is a great fit for this data set and business question. However, if you had an 82% accuracy fit for a business question based on a ‘yes’ or ‘no’ answer, it might not be a good fit. To further test the model’s accuracy, we can also employ a confusion matrix to evaluate the accuracy of the classification."
   ]
  },
  {
   "cell_type": "code",
   "execution_count": 21,
   "id": "03181d2e",
   "metadata": {},
   "outputs": [
    {
     "data": {
      "text/plain": [
       "<AxesSubplot:>"
      ]
     },
     "execution_count": 21,
     "metadata": {},
     "output_type": "execute_result"
    },
    {
     "data": {
      "image/png": "[encoded data removed]",
      "text/plain": [
       "<Figure size 432x288 with 2 Axes>"
      ]
     },
     "metadata": {},
     "output_type": "display_data"
    }
   ],
   "source": [
    "# Create the confusion matrix to test classification accuracy in BLR.\n",
    "# Import the necessary package to create the confusion matrix. \n",
    "from sklearn.metrics import confusion_matrix  \n",
    "\n",
    "# Indicate the confusion matrix needs to be created.\n",
    "confusion_matrix = confusion_matrix(y_test, y_pred)  \n",
    "\n",
    "# Plot the confusion_matrix.\n",
    "sns.heatmap(confusion_matrix, annot=True, fmt='g')"
   ]
  },
  {
   "cell_type": "code",
   "execution_count": 22,
   "id": "c98f11bb",
   "metadata": {},
   "outputs": [
    {
     "data": {
      "text/html": [
       "<div>\n",
       "<style scoped>\n",
       "    .dataframe tbody tr th:only-of-type {\n",
       "        vertical-align: middle;\n",
       "    }\n",
       "\n",
       "    .dataframe tbody tr th {\n",
       "        vertical-align: top;\n",
       "    }\n",
       "\n",
       "    .dataframe thead th {\n",
       "        text-align: right;\n",
       "    }\n",
       "</style>\n",
       "<table border=\"1\" class=\"dataframe\">\n",
       "  <thead>\n",
       "    <tr style=\"text-align: right;\">\n",
       "      <th></th>\n",
       "      <th>predicted_notchurn</th>\n",
       "      <th>predicted_churn</th>\n",
       "    </tr>\n",
       "  </thead>\n",
       "  <tbody>\n",
       "    <tr>\n",
       "      <th>observed_notchurn</th>\n",
       "      <td>6350</td>\n",
       "      <td>1316</td>\n",
       "    </tr>\n",
       "    <tr>\n",
       "      <th>observed_churn</th>\n",
       "      <td>1519</td>\n",
       "      <td>6156</td>\n",
       "    </tr>\n",
       "  </tbody>\n",
       "</table>\n",
       "</div>"
      ],
      "text/plain": [
       "                   predicted_notchurn  predicted_churn\n",
       "observed_notchurn                6350             1316\n",
       "observed_churn                   1519             6156"
      ]
     },
     "execution_count": 22,
     "metadata": {},
     "output_type": "execute_result"
    }
   ],
   "source": [
    "# Create a DataFrame to display the confusion matrix. \n",
    "pd.DataFrame(confusion_matrix, index=['observed_notchurn','observed_churn'],\n",
    "columns=['predicted_notchurn', 'predicted_churn'])"
   ]
  },
  {
   "cell_type": "markdown",
   "id": "056ce3d2",
   "metadata": {},
   "source": [
    "    -TN indicates that 6,350 customers did not churn.\n",
    "    -FP indicates that 1,316 customers did not churn but were incorrectly labelled as churners.\n",
    "    -FN indicates that 1,519 customers were classified as non-churners, but they are churners.\n",
    "    -TP indicates that 6,156 customers did churn.\n"
   ]
  },
  {
   "cell_type": "markdown",
   "id": "3cee0049",
   "metadata": {},
   "source": [
    "16. Print the accuracy"
   ]
  },
  {
   "cell_type": "code",
   "execution_count": 23,
   "id": "b5c82070",
   "metadata": {},
   "outputs": [
    {
     "name": "stdout",
     "output_type": "stream",
     "text": [
      "              precision    recall  f1-score   support\n",
      "\n",
      "           0       0.81      0.83      0.82      7666\n",
      "           1       0.82      0.80      0.81      7675\n",
      "\n",
      "    accuracy                           0.82     15341\n",
      "   macro avg       0.82      0.82      0.82     15341\n",
      "weighted avg       0.82      0.82      0.82     15341\n",
      "\n"
     ]
    }
   ],
   "source": [
    "# Import the necessary package.\n",
    "from sklearn.metrics import classification_report  \n",
    "\n",
    "# Print a report on the model's accuracy.\n",
    "print(classification_report(y_test, y_pred))  "
   ]
  },
  {
   "cell_type": "markdown",
   "id": "00f586c5",
   "metadata": {},
   "source": [
    "The high precision scores indicate that the model is accurate. This is an important metric in this case, as we’ll need to use the model to select the most appropriate customers for the new project. In other situations, accuracy might be the most important criterion, because it is a broader measure of how many classifications are correct. In some cases, recall might be important, because we might want to know how many instances of selecting a customer were, in fact, correct."
   ]
  },
  {
   "cell_type": "markdown",
   "id": "a5ef397a",
   "metadata": {},
   "source": [
    "# Conclusion"
   ]
  },
  {
   "cell_type": "markdown",
   "id": "148c3d7e",
   "metadata": {},
   "source": [
    "Since the objective is to identify whether a customer is likely to churn, we would want to classify customers as ‘Likely to churn’ (Target=1) or ‘Unlikely to churn’ (Target=0). We fitted a BLR model trying to predict one of two categories: 1 or 0. After working through the demonstration, we produced a model that had an accuracy score of 82%, which measures the number of correct predictions.\n",
    "\n",
    "This is a fairly high accuracy score; and given that we can successfully classify customers that are likely to churn at an expected probability of 82%, we can hopefully intervene and prevent this from taking place. Given that we could get this wrong 18% of the time, the cost of this misclassification is likely slim compared to the benefits of identifying the cases that require intervention.\n",
    "\n",
    "If the business case and risk of misclassification are extremely high (like in healthcare matters where the cost of misclassifying a disease is extremely high), an accuracy rate of 82% might not be acceptable, and you would want to attempt to tune the model to improve this score."
   ]
  },
  {
   "cell_type": "code",
   "execution_count": null,
   "id": "da331988",
   "metadata": {},
   "outputs": [],
   "source": []
  }
 ],
 "metadata": {
  "kernelspec": {
   "display_name": "Python 3 (ipykernel)",
   "language": "python",
   "name": "python3"
  },
  "language_info": {
   "codemirror_mode": {
    "name": "ipython",
    "version": 3
   },
   "file_extension": ".py",
   "mimetype": "text/x-python",
   "name": "python",
   "nbconvert_exporter": "python",
   "pygments_lexer": "ipython3",
   "version": "3.9.12"
  }
 },
 "nbformat": 4,
 "nbformat_minor": 5
}
