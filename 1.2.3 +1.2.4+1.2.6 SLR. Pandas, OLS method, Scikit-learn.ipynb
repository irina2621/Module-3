{
 "cells": [
  {
   "cell_type": "code",
   "execution_count": 1,
   "id": "62e53c07",
   "metadata": {},
   "outputs": [],
   "source": [
    "# Import necessary libraries.\n",
    "# Creating the linear regression\n",
    "import numpy as np\n",
    "import pandas as pd\n",
    "\n",
    "# Visualise the linear regression.\n",
    "import matplotlib.pyplot as plt\n",
    "import seaborn as sns"
   ]
  },
  {
   "cell_type": "code",
   "execution_count": 2,
   "id": "5e8ad415",
   "metadata": {},
   "outputs": [
    {
     "data": {
      "text/html": [
       "<div>\n",
       "<style scoped>\n",
       "    .dataframe tbody tr th:only-of-type {\n",
       "        vertical-align: middle;\n",
       "    }\n",
       "\n",
       "    .dataframe tbody tr th {\n",
       "        vertical-align: top;\n",
       "    }\n",
       "\n",
       "    .dataframe thead th {\n",
       "        text-align: right;\n",
       "    }\n",
       "</style>\n",
       "<table border=\"1\" class=\"dataframe\">\n",
       "  <thead>\n",
       "    <tr style=\"text-align: right;\">\n",
       "      <th></th>\n",
       "      <th>Engine size</th>\n",
       "      <th>Selling price</th>\n",
       "    </tr>\n",
       "  </thead>\n",
       "  <tbody>\n",
       "    <tr>\n",
       "      <th>0</th>\n",
       "      <td>0.9</td>\n",
       "      <td>20000</td>\n",
       "    </tr>\n",
       "    <tr>\n",
       "      <th>1</th>\n",
       "      <td>1.0</td>\n",
       "      <td>22000</td>\n",
       "    </tr>\n",
       "    <tr>\n",
       "      <th>2</th>\n",
       "      <td>1.1</td>\n",
       "      <td>23500</td>\n",
       "    </tr>\n",
       "    <tr>\n",
       "      <th>3</th>\n",
       "      <td>1.2</td>\n",
       "      <td>26000</td>\n",
       "    </tr>\n",
       "    <tr>\n",
       "      <th>4</th>\n",
       "      <td>1.4</td>\n",
       "      <td>25000</td>\n",
       "    </tr>\n",
       "    <tr>\n",
       "      <th>5</th>\n",
       "      <td>1.6</td>\n",
       "      <td>28250</td>\n",
       "    </tr>\n",
       "    <tr>\n",
       "      <th>6</th>\n",
       "      <td>1.8</td>\n",
       "      <td>29300</td>\n",
       "    </tr>\n",
       "    <tr>\n",
       "      <th>7</th>\n",
       "      <td>2.0</td>\n",
       "      <td>33000</td>\n",
       "    </tr>\n",
       "    <tr>\n",
       "      <th>8</th>\n",
       "      <td>2.2</td>\n",
       "      <td>34255</td>\n",
       "    </tr>\n",
       "    <tr>\n",
       "      <th>9</th>\n",
       "      <td>2.5</td>\n",
       "      <td>45000</td>\n",
       "    </tr>\n",
       "  </tbody>\n",
       "</table>\n",
       "</div>"
      ],
      "text/plain": [
       "   Engine size  Selling price\n",
       "0          0.9          20000\n",
       "1          1.0          22000\n",
       "2          1.1          23500\n",
       "3          1.2          26000\n",
       "4          1.4          25000\n",
       "5          1.6          28250\n",
       "6          1.8          29300\n",
       "7          2.0          33000\n",
       "8          2.2          34255\n",
       "9          2.5          45000"
      ]
     },
     "execution_count": 2,
     "metadata": {},
     "output_type": "execute_result"
    }
   ],
   "source": [
    "# Create a DataFrame to store the data.\n",
    "# Passing the key value as a list.\n",
    "data = {'Engine size': [0.9, 1.0, 1.1, 1.2, 1.4,\n",
    "                        1.6, 1.8, 2, 2.2, 2.5],\n",
    "        'Selling price': [20000, 22000, 23500, 26000,\n",
    "                          25000, 28250, 29300, 33000,\n",
    "                          34255, 45000]}\n",
    "\n",
    "# Create DataFrame  \n",
    "df = pd.DataFrame(data)  \n",
    "  \n",
    "# Print the DataFrame.  \n",
    "df"
   ]
  },
  {
   "cell_type": "code",
   "execution_count": 3,
   "id": "43c2a8cb",
   "metadata": {},
   "outputs": [
    {
     "data": {
      "text/html": [
       "<div>\n",
       "<style scoped>\n",
       "    .dataframe tbody tr th:only-of-type {\n",
       "        vertical-align: middle;\n",
       "    }\n",
       "\n",
       "    .dataframe tbody tr th {\n",
       "        vertical-align: top;\n",
       "    }\n",
       "\n",
       "    .dataframe thead th {\n",
       "        text-align: right;\n",
       "    }\n",
       "</style>\n",
       "<table border=\"1\" class=\"dataframe\">\n",
       "  <thead>\n",
       "    <tr style=\"text-align: right;\">\n",
       "      <th></th>\n",
       "      <th>Engine size</th>\n",
       "      <th>Selling price</th>\n",
       "    </tr>\n",
       "  </thead>\n",
       "  <tbody>\n",
       "    <tr>\n",
       "      <th>Engine size</th>\n",
       "      <td>1.000000</td>\n",
       "      <td>0.957063</td>\n",
       "    </tr>\n",
       "    <tr>\n",
       "      <th>Selling price</th>\n",
       "      <td>0.957063</td>\n",
       "      <td>1.000000</td>\n",
       "    </tr>\n",
       "  </tbody>\n",
       "</table>\n",
       "</div>"
      ],
      "text/plain": [
       "               Engine size  Selling price\n",
       "Engine size       1.000000       0.957063\n",
       "Selling price     0.957063       1.000000"
      ]
     },
     "execution_count": 3,
     "metadata": {},
     "output_type": "execute_result"
    }
   ],
   "source": [
    "# Apply Pandas correlation method.\n",
    "df.corr()"
   ]
  },
  {
   "cell_type": "code",
   "execution_count": 5,
   "id": "44c3a318",
   "metadata": {},
   "outputs": [
    {
     "data": {
      "text/plain": [
       "(0.0, 2.5)"
      ]
     },
     "execution_count": 5,
     "metadata": {},
     "output_type": "execute_result"
    },
    {
     "data": {
      "image/png": "[encoded data removed]",
      "text/plain": [
       "<Figure size 432x288 with 1 Axes>"
      ]
     },
     "metadata": {
      "needs_background": "light"
     },
     "output_type": "display_data"
    }
   ],
   "source": [
    "# Start with a visualisation BEFORE running linear regression.\n",
    "sns.scatterplot(data=df,\n",
    "               x='Engine size',\n",
    "               y='Selling price')\n",
    "\n",
    "# Set axis values.\n",
    "plt.ylim(0, 45000)\n",
    "plt.xlim(0, 2.5)"
   ]
  },
  {
   "cell_type": "code",
   "execution_count": 7,
   "id": "3928d8dd",
   "metadata": {},
   "outputs": [
    {
     "data": {
      "text/plain": [
       "array([12909.48891394,  8362.60240511])"
      ]
     },
     "execution_count": 7,
     "metadata": {},
     "output_type": "execute_result"
    }
   ],
   "source": [
    "# Fit the linear model.\n",
    "# Polyfit() good to use for simple linear regression (only one variable).\n",
    "# See if we can predict the selling price based on the engine size\n",
    "reg = np.polyfit(df['Engine size'],\n",
    "                df['Selling price'],\n",
    "                # Degree = 1, degree of polynomium, for SLR always 1.\n",
    "                deg = 1)\n",
    "\n",
    "# The output indicates the slope and -intercept respectively.\n",
    "reg"
   ]
  },
  {
   "cell_type": "code",
   "execution_count": 8,
   "id": "d0f9a600",
   "metadata": {},
   "outputs": [
    {
     "data": {
      "text/plain": [
       "[<matplotlib.lines.Line2D at 0x7fb71a627fa0>]"
      ]
     },
     "execution_count": 8,
     "metadata": {},
     "output_type": "execute_result"
    },
    {
     "data": {
      "image/png": "[encoded data removed]",
      "text/plain": [
       "<Figure size 432x288 with 1 Axes>"
      ]
     },
     "metadata": {
      "needs_background": "light"
     },
     "output_type": "display_data"
    }
   ],
   "source": [
    "# Add a trendline to visualise the linear regression.\n",
    "# Use the NumPy polyval method, specify the regression and the independent variable.\n",
    "trend = np.polyval(reg, df['Engine size'])\n",
    "\n",
    "# View the previous scatterplot.\n",
    "sns.scatterplot(data=df,\n",
    "               x='Engine size',\n",
    "               y='Selling price')\n",
    "\n",
    "# Set axis values.\n",
    "plt.ylim(0, 45000)\n",
    "plt.xlim(0, 2.5)\n",
    "\n",
    "# Add the trendline.\n",
    "plt.plot(df['Engine size'],\n",
    "         trend,\n",
    "         color='red')"
   ]
  },
  {
   "cell_type": "markdown",
   "id": "b7df09e0",
   "metadata": {},
   "source": [
    "# SLR: OLS Method"
   ]
  },
  {
   "cell_type": "code",
   "execution_count": 10,
   "id": "1e808306",
   "metadata": {},
   "outputs": [
    {
     "name": "stdout",
     "output_type": "stream",
     "text": [
      "Requirement already satisfied: statsmodels in /Users/irinap/opt/anaconda3/lib/python3.9/site-packages (0.13.2)\n",
      "Requirement already satisfied: numpy>=1.17 in /Users/irinap/opt/anaconda3/lib/python3.9/site-packages (from statsmodels) (1.21.5)\n",
      "Requirement already satisfied: pandas>=0.25 in /Users/irinap/opt/anaconda3/lib/python3.9/site-packages (from statsmodels) (1.4.2)\n",
      "Requirement already satisfied: scipy>=1.3 in /Users/irinap/opt/anaconda3/lib/python3.9/site-packages (from statsmodels) (1.7.3)\n",
      "Requirement already satisfied: packaging>=21.3 in /Users/irinap/opt/anaconda3/lib/python3.9/site-packages (from statsmodels) (21.3)\n",
      "Requirement already satisfied: patsy>=0.5.2 in /Users/irinap/opt/anaconda3/lib/python3.9/site-packages (from statsmodels) (0.5.2)\n",
      "Requirement already satisfied: pyparsing!=3.0.5,>=2.0.2 in /Users/irinap/opt/anaconda3/lib/python3.9/site-packages (from packaging>=21.3->statsmodels) (3.0.4)\n",
      "Requirement already satisfied: python-dateutil>=2.8.1 in /Users/irinap/opt/anaconda3/lib/python3.9/site-packages (from pandas>=0.25->statsmodels) (2.8.2)\n",
      "Requirement already satisfied: pytz>=2020.1 in /Users/irinap/opt/anaconda3/lib/python3.9/site-packages (from pandas>=0.25->statsmodels) (2021.3)\n",
      "Requirement already satisfied: six in /Users/irinap/opt/anaconda3/lib/python3.9/site-packages (from patsy>=0.5.2->statsmodels) (1.16.0)\n",
      "   Engine size  Selling price\n",
      "0           77      79.775152\n",
      "1           21      23.177279\n",
      "2           22      25.609262\n",
      "3           20      17.857388\n",
      "4           36      41.849864\n",
      "<class 'pandas.core.frame.DataFrame'>\n",
      "RangeIndex: 300 entries, 0 to 299\n",
      "Data columns (total 2 columns):\n",
      " #   Column         Non-Null Count  Dtype  \n",
      "---  ------         --------------  -----  \n",
      " 0   Engine size    300 non-null    int64  \n",
      " 1   Selling price  300 non-null    float64\n",
      "dtypes: float64(1), int64(1)\n",
      "memory usage: 4.8 KB\n",
      "None\n"
     ]
    },
    {
     "data": {
      "text/html": [
       "<div>\n",
       "<style scoped>\n",
       "    .dataframe tbody tr th:only-of-type {\n",
       "        vertical-align: middle;\n",
       "    }\n",
       "\n",
       "    .dataframe tbody tr th {\n",
       "        vertical-align: top;\n",
       "    }\n",
       "\n",
       "    .dataframe thead th {\n",
       "        text-align: right;\n",
       "    }\n",
       "</style>\n",
       "<table border=\"1\" class=\"dataframe\">\n",
       "  <thead>\n",
       "    <tr style=\"text-align: right;\">\n",
       "      <th></th>\n",
       "      <th>Engine size</th>\n",
       "      <th>Selling price</th>\n",
       "    </tr>\n",
       "  </thead>\n",
       "  <tbody>\n",
       "    <tr>\n",
       "      <th>count</th>\n",
       "      <td>300.000000</td>\n",
       "      <td>300.000000</td>\n",
       "    </tr>\n",
       "    <tr>\n",
       "      <th>mean</th>\n",
       "      <td>50.936667</td>\n",
       "      <td>51.205051</td>\n",
       "    </tr>\n",
       "    <tr>\n",
       "      <th>std</th>\n",
       "      <td>28.504286</td>\n",
       "      <td>29.071481</td>\n",
       "    </tr>\n",
       "    <tr>\n",
       "      <th>min</th>\n",
       "      <td>0.000000</td>\n",
       "      <td>-3.467884</td>\n",
       "    </tr>\n",
       "    <tr>\n",
       "      <th>25%</th>\n",
       "      <td>27.000000</td>\n",
       "      <td>25.676502</td>\n",
       "    </tr>\n",
       "    <tr>\n",
       "      <th>50%</th>\n",
       "      <td>53.000000</td>\n",
       "      <td>52.170557</td>\n",
       "    </tr>\n",
       "    <tr>\n",
       "      <th>75%</th>\n",
       "      <td>73.000000</td>\n",
       "      <td>74.303007</td>\n",
       "    </tr>\n",
       "    <tr>\n",
       "      <th>max</th>\n",
       "      <td>100.000000</td>\n",
       "      <td>105.591837</td>\n",
       "    </tr>\n",
       "  </tbody>\n",
       "</table>\n",
       "</div>"
      ],
      "text/plain": [
       "       Engine size  Selling price\n",
       "count   300.000000     300.000000\n",
       "mean     50.936667      51.205051\n",
       "std      28.504286      29.071481\n",
       "min       0.000000      -3.467884\n",
       "25%      27.000000      25.676502\n",
       "50%      53.000000      52.170557\n",
       "75%      73.000000      74.303007\n",
       "max     100.000000     105.591837"
      ]
     },
     "execution_count": 10,
     "metadata": {},
     "output_type": "execute_result"
    }
   ],
   "source": [
    "# Install the statsmodels package.\n",
    "!pip install statsmodels\n",
    "\n",
    "# Import the necessary libraries\n",
    "import numpy as np\n",
    "import pandas as pd\n",
    "\n",
    "# Visualisation.\n",
    "import seaborn as sns\n",
    "import matplotlib.pyplot as plt\n",
    "\n",
    "# The statsmodels.\n",
    "import statsmodels.api as sm \n",
    "from statsmodels.formula.api import ols\n",
    "\n",
    "# Import and read the data file (car4u.csv).\n",
    "cars = pd.read_csv('car4u.csv')\n",
    "\n",
    "# View the DataFrame.\n",
    "print(cars.head())\n",
    "print(cars.info())\n",
    "cars.describe()"
   ]
  },
  {
   "cell_type": "code",
   "execution_count": 11,
   "id": "95572390",
   "metadata": {},
   "outputs": [
    {
     "data": {
      "text/plain": [
       "<matplotlib.collections.PathCollection at 0x7fb71b577730>"
      ]
     },
     "execution_count": 11,
     "metadata": {},
     "output_type": "execute_result"
    },
    {
     "data": {
      "image/png": "[encoded data removed]",
      "text/plain": [
       "<Figure size 432x288 with 1 Axes>"
      ]
     },
     "metadata": {
      "needs_background": "light"
     },
     "output_type": "display_data"
    }
   ],
   "source": [
    "# Define the dependent variable.\n",
    "y = cars['Selling price'] \n",
    "\n",
    "# Define the independent variable.\n",
    "x = cars['Engine size'] \n",
    "\n",
    "# Check for linearity with Matplotlib.\n",
    "plt.scatter(x, y)"
   ]
  },
  {
   "cell_type": "code",
   "execution_count": 12,
   "id": "21ce5e55",
   "metadata": {},
   "outputs": [
    {
     "data": {
      "text/html": [
       "<table class=\"simpletable\">\n",
       "<caption>OLS Regression Results</caption>\n",
       "<tr>\n",
       "  <th>Dep. Variable:</th>            <td>y</td>        <th>  R-squared:         </th> <td>   0.989</td> \n",
       "</tr>\n",
       "<tr>\n",
       "  <th>Model:</th>                   <td>OLS</td>       <th>  Adj. R-squared:    </th> <td>   0.989</td> \n",
       "</tr>\n",
       "<tr>\n",
       "  <th>Method:</th>             <td>Least Squares</td>  <th>  F-statistic:       </th> <td>2.709e+04</td>\n",
       "</tr>\n",
       "<tr>\n",
       "  <th>Date:</th>             <td>Thu, 03 Nov 2022</td> <th>  Prob (F-statistic):</th> <td>1.33e-294</td>\n",
       "</tr>\n",
       "<tr>\n",
       "  <th>Time:</th>                 <td>17:11:10</td>     <th>  Log-Likelihood:    </th> <td> -757.98</td> \n",
       "</tr>\n",
       "<tr>\n",
       "  <th>No. Observations:</th>      <td>   300</td>      <th>  AIC:               </th> <td>   1520.</td> \n",
       "</tr>\n",
       "<tr>\n",
       "  <th>Df Residuals:</th>          <td>   298</td>      <th>  BIC:               </th> <td>   1527.</td> \n",
       "</tr>\n",
       "<tr>\n",
       "  <th>Df Model:</th>              <td>     1</td>      <th>                     </th>     <td> </td>    \n",
       "</tr>\n",
       "<tr>\n",
       "  <th>Covariance Type:</th>      <td>nonrobust</td>    <th>                     </th>     <td> </td>    \n",
       "</tr>\n",
       "</table>\n",
       "<table class=\"simpletable\">\n",
       "<tr>\n",
       "      <td></td>         <th>coef</th>     <th>std err</th>      <th>t</th>      <th>P>|t|</th>  <th>[0.025</th>    <th>0.975]</th>  \n",
       "</tr>\n",
       "<tr>\n",
       "  <th>Intercept</th> <td>   -0.4618</td> <td>    0.360</td> <td>   -1.284</td> <td> 0.200</td> <td>   -1.169</td> <td>    0.246</td>\n",
       "</tr>\n",
       "<tr>\n",
       "  <th>x</th>         <td>    1.0143</td> <td>    0.006</td> <td>  164.598</td> <td> 0.000</td> <td>    1.002</td> <td>    1.026</td>\n",
       "</tr>\n",
       "</table>\n",
       "<table class=\"simpletable\">\n",
       "<tr>\n",
       "  <th>Omnibus:</th>       <td> 1.034</td> <th>  Durbin-Watson:     </th> <td>   2.006</td>\n",
       "</tr>\n",
       "<tr>\n",
       "  <th>Prob(Omnibus):</th> <td> 0.596</td> <th>  Jarque-Bera (JB):  </th> <td>   0.825</td>\n",
       "</tr>\n",
       "<tr>\n",
       "  <th>Skew:</th>          <td> 0.117</td> <th>  Prob(JB):          </th> <td>   0.662</td>\n",
       "</tr>\n",
       "<tr>\n",
       "  <th>Kurtosis:</th>      <td> 3.104</td> <th>  Cond. No.          </th> <td>    120.</td>\n",
       "</tr>\n",
       "</table><br/><br/>Notes:<br/>[1] Standard Errors assume that the covariance matrix of the errors is correctly specified."
      ],
      "text/plain": [
       "<class 'statsmodels.iolib.summary.Summary'>\n",
       "\"\"\"\n",
       "                            OLS Regression Results                            \n",
       "==============================================================================\n",
       "Dep. Variable:                      y   R-squared:                       0.989\n",
       "Model:                            OLS   Adj. R-squared:                  0.989\n",
       "Method:                 Least Squares   F-statistic:                 2.709e+04\n",
       "Date:                Thu, 03 Nov 2022   Prob (F-statistic):          1.33e-294\n",
       "Time:                        17:11:10   Log-Likelihood:                -757.98\n",
       "No. Observations:                 300   AIC:                             1520.\n",
       "Df Residuals:                     298   BIC:                             1527.\n",
       "Df Model:                           1                                         \n",
       "Covariance Type:            nonrobust                                         \n",
       "==============================================================================\n",
       "                 coef    std err          t      P>|t|      [0.025      0.975]\n",
       "------------------------------------------------------------------------------\n",
       "Intercept     -0.4618      0.360     -1.284      0.200      -1.169       0.246\n",
       "x              1.0143      0.006    164.598      0.000       1.002       1.026\n",
       "==============================================================================\n",
       "Omnibus:                        1.034   Durbin-Watson:                   2.006\n",
       "Prob(Omnibus):                  0.596   Jarque-Bera (JB):                0.825\n",
       "Skew:                           0.117   Prob(JB):                        0.662\n",
       "Kurtosis:                       3.104   Cond. No.                         120.\n",
       "==============================================================================\n",
       "\n",
       "Notes:\n",
       "[1] Standard Errors assume that the covariance matrix of the errors is correctly specified.\n",
       "\"\"\""
      ]
     },
     "execution_count": 12,
     "metadata": {},
     "output_type": "execute_result"
    }
   ],
   "source": [
    "# Create formula and pass through OLS methods.\n",
    "f = 'y ~ x'\n",
    "test = ols(f, data = cars).fit()\n",
    "\n",
    "# Print the regression table.\n",
    "test.summary() "
   ]
  },
  {
   "cell_type": "code",
   "execution_count": 13,
   "id": "ce0d1c6a",
   "metadata": {},
   "outputs": [
    {
     "name": "stdout",
     "output_type": "stream",
     "text": [
      "Parameters:  Intercept   -0.461811\n",
      "x            1.014335\n",
      "dtype: float64\n",
      "Standard errors:  Intercept    0.359560\n",
      "x            0.006162\n",
      "dtype: float64\n",
      "Predicted values:  [ 77.64201157  20.83923168  21.85356704  19.82489633  36.05426201\n",
      "  14.75321955  62.42698124  95.90004796  19.82489633   4.609866\n",
      "   3.59553065  18.81056097  96.91438332  62.42698124  36.05426201\n",
      "  14.75321955  65.46998731  13.7388842   87.78536512  69.52732873\n",
      "  89.81403583  51.26929234  89.81403583  26.92524381  97.92871867\n",
      "  58.36963982  79.67068228  20.83923168  93.87137725  26.92524381\n",
      "  99.95738938  30.98258524  33.01125595  80.68501764  27.93957917\n",
      "  47.21195092  53.29796305  69.52732873  27.93957917  33.01125595\n",
      "  91.84270654  71.55599944  50.25495698  76.62767622   3.59553065\n",
      "  37.06859737  70.54166408  68.51299337  40.11160343  35.03992666\n",
      "  94.88571261  88.79970048  52.28362769  30.98258524  59.38397518\n",
      "  -0.46181077  39.09726808  64.45565195  69.52732873  57.35530447\n",
      "  12.72454884  72.57033479  76.62767622  61.41264589  82.71368835\n",
      "  17.79622562  41.12593879  50.25495698  55.32663376  12.72454884\n",
      "  46.19761556  12.72454884  79.67068228  53.29796305  14.75321955\n",
      "  27.93957917  81.69935299  69.52732873  52.28362769  84.74235906\n",
      "  68.51299337  26.92524381  56.34096911  48.22628627  40.11160343\n",
      "  39.09726808  82.71368835 100.97172474  59.38397518  43.1546095\n",
      "  67.49865802  38.08293272  63.4413166   91.84270654  60.39831053\n",
      "  13.7388842   20.83923168  87.78536512  73.58467015  31.99692059\n",
      "   1.56685994  82.71368835  18.81056097  74.59900551  42.14027414\n",
      "  11.71021349   0.55252458  90.82837119  89.81403583  -0.46181077\n",
      "  41.12593879  15.76755491  94.88571261  97.92871867  66.48432266\n",
      "  23.88223775  16.78189026  90.82837119  12.72454884  -0.46181077\n",
      "  64.45565195  96.91438332  98.94305403  11.71021349  41.12593879\n",
      "  47.21195092  78.65634693  19.82489633  89.81403583  28.95391452\n",
      "  64.45565195  75.61334086  11.71021349  24.8965731   27.93957917\n",
      "  29.96824988  65.46998731  59.38397518  64.45565195  53.29796305\n",
      "  71.55599944  97.92871867  73.58467015   8.66720742  11.71021349\n",
      "  63.4413166   99.95738938  60.39831053  35.03992666   1.56685994\n",
      "  60.39831053  31.99692059  94.88571261  84.74235906  63.4413166\n",
      "  21.85356704  81.69935299  93.87137725  33.01125595   6.63853671\n",
      "  42.14027414  46.19761556  54.3122984   15.76755491  49.24062163\n",
      "  43.1546095   95.90004796  66.48432266  20.83923168  35.03992666\n",
      "  80.68501764  37.06859737  54.3122984   56.34096911   0.55252458\n",
      "  31.99692059  58.36963982  31.99692059  46.19761556  72.57033479\n",
      "  16.78189026  97.92871867  93.87137725  91.84270654  37.06859737\n",
      "   3.59553065  54.3122984   51.26929234  26.92524381  46.19761556\n",
      "  92.8570419   73.58467015  77.64201157  91.84270654  61.41264589\n",
      "  99.95738938   3.59553065  72.57033479  18.81056097  57.35530447\n",
      "  78.65634693  25.91090846  74.59900551  90.82837119  66.48432266\n",
      "  12.72454884  40.11160343  77.64201157  67.49865802  75.61334086\n",
      "  22.86790239  45.18328021  59.38397518  44.16894485  22.86790239\n",
      "  55.32663376  55.32663376  95.90004796  11.71021349   3.59553065\n",
      "   6.63853671 100.97172474  48.22628627  42.14027414  96.91438332\n",
      "  39.09726808 100.97172474  87.78536512  13.7388842   13.7388842\n",
      "  37.06859737   4.609866    88.79970048  91.84270654  65.46998731\n",
      "  74.59900551  56.34096911  15.76755491   4.609866    27.93957917\n",
      "  92.8570419   46.19761556  54.3122984   39.09726808  44.16894485\n",
      "  30.98258524  68.51299337  86.77102977  90.82837119  38.08293272\n",
      "  20.83923168  95.90004796  56.34096911  60.39831053  65.46998731\n",
      "  78.65634693  89.81403583   5.62420136  67.49865802  36.05426201\n",
      "  15.76755491 100.97172474  45.18328021  73.58467015  57.35530447\n",
      "  19.82489633  76.62767622  34.0255913   55.32663376  72.57033479\n",
      "  55.32663376   7.65287207  56.34096911  72.57033479  58.36963982\n",
      "   5.62420136  96.91438332  22.86790239  58.36963982  22.86790239\n",
      "  18.81056097  24.8965731   64.45565195  20.83923168  59.38397518\n",
      "  18.81056097  15.76755491  42.14027414  43.1546095   61.41264589\n",
      "  92.8570419   10.69587813  41.12593879   0.55252458   7.65287207\n",
      "  71.55599944  46.19761556  55.32663376  62.42698124  47.21195092]\n"
     ]
    }
   ],
   "source": [
    "# Extract the estimated parameters.\n",
    "print(\"Parameters: \", test.params)  \n",
    "\n",
    "# Extract the standard errors.\n",
    "print(\"Standard errors: \", test.bse)  \n",
    "\n",
    "# Extract the predicted values.\n",
    "print(\"Predicted values: \", test.predict()) "
   ]
  },
  {
   "cell_type": "code",
   "execution_count": 14,
   "id": "a0244581",
   "metadata": {},
   "outputs": [
    {
     "data": {
      "text/plain": [
       "0      77.6393\n",
       "1      20.8385\n",
       "2      21.8528\n",
       "3      19.8242\n",
       "4      36.0530\n",
       "        ...   \n",
       "295    71.5535\n",
       "296    46.1960\n",
       "297    55.3247\n",
       "298    62.4248\n",
       "299    47.2103\n",
       "Name: Engine size, Length: 300, dtype: float64"
      ]
     },
     "execution_count": 14,
     "metadata": {},
     "output_type": "execute_result"
    }
   ],
   "source": [
    "# Create the linear regression model.\n",
    "# Set the the coefficient to 1.0143 and the constant to -0.4618.\n",
    "y_pred = (-0.4618) + 1.0143 * cars['Engine size']\n",
    "\n",
    "# View the output\n",
    "y_pred"
   ]
  },
  {
   "cell_type": "code",
   "execution_count": 15,
   "id": "9d3be455",
   "metadata": {},
   "outputs": [
    {
     "data": {
      "image/png": "[encoded data removed]",
      "text/plain": [
       "<Figure size 432x288 with 1 Axes>"
      ]
     },
     "metadata": {
      "needs_background": "light"
     },
     "output_type": "display_data"
    }
   ],
   "source": [
    "# Plot the data points with a scatterplot.\n",
    "plt.scatter(x, y)\n",
    "\n",
    "# Plot the regression line (in black).\n",
    "plt.plot(x, y_pred, color='black')\n",
    "\n",
    "# Set the x and y limits on the axes.\n",
    "plt.xlim(0)\n",
    "plt.ylim(0)\n",
    "\n",
    "# View the plot.\n",
    "plt.show()"
   ]
  },
  {
   "cell_type": "markdown",
   "id": "6aa67662",
   "metadata": {},
   "source": [
    "# 1.2.6 SLR: Scikit-learn"
   ]
  },
  {
   "cell_type": "code",
   "execution_count": 17,
   "id": "33a56a18",
   "metadata": {},
   "outputs": [
    {
     "name": "stdout",
     "output_type": "stream",
     "text": [
      "Requirement already satisfied: scipy in /Users/irinap/opt/anaconda3/lib/python3.9/site-packages (1.7.3)\n",
      "Requirement already satisfied: numpy<1.23.0,>=1.16.5 in /Users/irinap/opt/anaconda3/lib/python3.9/site-packages (from scipy) (1.21.5)\n",
      "   YearsExperience   Salary\n",
      "0              1.1  39343.0\n",
      "1              1.3  46205.0\n",
      "2              1.5  37731.0\n",
      "3              2.0  43525.0\n",
      "4              2.2  39891.0\n",
      "<class 'pandas.core.frame.DataFrame'>\n",
      "RangeIndex: 30 entries, 0 to 29\n",
      "Data columns (total 2 columns):\n",
      " #   Column           Non-Null Count  Dtype  \n",
      "---  ------           --------------  -----  \n",
      " 0   YearsExperience  30 non-null     float64\n",
      " 1   Salary           30 non-null     float64\n",
      "dtypes: float64(2)\n",
      "memory usage: 608.0 bytes\n",
      "None\n"
     ]
    },
    {
     "data": {
      "text/html": [
       "<div>\n",
       "<style scoped>\n",
       "    .dataframe tbody tr th:only-of-type {\n",
       "        vertical-align: middle;\n",
       "    }\n",
       "\n",
       "    .dataframe tbody tr th {\n",
       "        vertical-align: top;\n",
       "    }\n",
       "\n",
       "    .dataframe thead th {\n",
       "        text-align: right;\n",
       "    }\n",
       "</style>\n",
       "<table border=\"1\" class=\"dataframe\">\n",
       "  <thead>\n",
       "    <tr style=\"text-align: right;\">\n",
       "      <th></th>\n",
       "      <th>YearsExperience</th>\n",
       "      <th>Salary</th>\n",
       "    </tr>\n",
       "  </thead>\n",
       "  <tbody>\n",
       "    <tr>\n",
       "      <th>count</th>\n",
       "      <td>30.000000</td>\n",
       "      <td>30.000000</td>\n",
       "    </tr>\n",
       "    <tr>\n",
       "      <th>mean</th>\n",
       "      <td>5.313333</td>\n",
       "      <td>76003.000000</td>\n",
       "    </tr>\n",
       "    <tr>\n",
       "      <th>std</th>\n",
       "      <td>2.837888</td>\n",
       "      <td>27414.429785</td>\n",
       "    </tr>\n",
       "    <tr>\n",
       "      <th>min</th>\n",
       "      <td>1.100000</td>\n",
       "      <td>37731.000000</td>\n",
       "    </tr>\n",
       "    <tr>\n",
       "      <th>25%</th>\n",
       "      <td>3.200000</td>\n",
       "      <td>56720.750000</td>\n",
       "    </tr>\n",
       "    <tr>\n",
       "      <th>50%</th>\n",
       "      <td>4.700000</td>\n",
       "      <td>65237.000000</td>\n",
       "    </tr>\n",
       "    <tr>\n",
       "      <th>75%</th>\n",
       "      <td>7.700000</td>\n",
       "      <td>100544.750000</td>\n",
       "    </tr>\n",
       "    <tr>\n",
       "      <th>max</th>\n",
       "      <td>10.500000</td>\n",
       "      <td>122391.000000</td>\n",
       "    </tr>\n",
       "  </tbody>\n",
       "</table>\n",
       "</div>"
      ],
      "text/plain": [
       "       YearsExperience         Salary\n",
       "count        30.000000      30.000000\n",
       "mean          5.313333   76003.000000\n",
       "std           2.837888   27414.429785\n",
       "min           1.100000   37731.000000\n",
       "25%           3.200000   56720.750000\n",
       "50%           4.700000   65237.000000\n",
       "75%           7.700000  100544.750000\n",
       "max          10.500000  122391.000000"
      ]
     },
     "execution_count": 17,
     "metadata": {},
     "output_type": "execute_result"
    }
   ],
   "source": [
    "# Install the necessary module.\n",
    "!pip install scipy\n",
    "\n",
    "# Import the necessary libraries, packages, and modules.\n",
    "# Data analysis:\n",
    "import numpy as np  \n",
    "import pandas as pd \n",
    "\n",
    "# Linear regression:\n",
    "import sklearn\n",
    "import statsmodels.api as sm \n",
    "\n",
    "#Visualisation:\n",
    "import matplotlib.pyplot as plt \n",
    "import seaborn as sns\n",
    "\n",
    "\n",
    "# Import the salary_data.csv file.\n",
    "data = pd.read_csv('salary_data.csv') \n",
    "\n",
    "# Print the DataFrame.\n",
    "print(data.head())\n",
    "print(data.info())\n",
    "data.describe() "
   ]
  },
  {
   "cell_type": "code",
   "execution_count": 18,
   "id": "c54a5729",
   "metadata": {},
   "outputs": [],
   "source": [
    "# Define the dependent variable.\n",
    "y = data['Salary'].values.reshape(-1, 1) \n",
    "\n",
    "# Define the independent variable.\n",
    "x = data['YearsExperience'].values.reshape(-1, 1) "
   ]
  },
  {
   "cell_type": "code",
   "execution_count": 19,
   "id": "7225ae52",
   "metadata": {},
   "outputs": [
    {
     "data": {
      "text/plain": [
       "LinearRegression()"
      ]
     },
     "execution_count": 19,
     "metadata": {},
     "output_type": "execute_result"
    }
   ],
   "source": [
    "# Import the necessary package.\n",
    "from sklearn.linear_model import LinearRegression\n",
    "\n",
    "# Specify the model.\n",
    "lm = LinearRegression()\n",
    "\n",
    "# Fit the model.\n",
    "lm.fit(x, y) "
   ]
  },
  {
   "cell_type": "code",
   "execution_count": 20,
   "id": "fa09c64e",
   "metadata": {},
   "outputs": [],
   "source": [
    "# Import the sklearn module.\n",
    "from sklearn.model_selection import train_test_split \n",
    "\n",
    "# Create  the subset (50/50); \n",
    "# Control the shuffling/avoid variation in values between variable.\n",
    "x_train, x_test, y_train, y_test = train_test_split(x, y,\n",
    "                                                    train_size=0.5,\n",
    "                                                    random_state=100)"
   ]
  },
  {
   "cell_type": "code",
   "execution_count": 21,
   "id": "54bd4a88",
   "metadata": {},
   "outputs": [
    {
     "data": {
      "text/plain": [
       "array([[ 38077.15121656],\n",
       "       [ 81546.97789525],\n",
       "       [ 68317.03064522],\n",
       "       [ 82491.9741274 ],\n",
       "       [ 92886.932681  ],\n",
       "       [ 39967.14368085],\n",
       "       [ 90051.94398456],\n",
       "       [ 62647.05325234],\n",
       "       [ 73987.00803809],\n",
       "       [ 72097.0155738 ],\n",
       "       [103281.8912346 ],\n",
       "       [ 56032.07962732],\n",
       "       [ 44692.12484158],\n",
       "       [108006.87239533],\n",
       "       [ 56032.07962732]])"
      ]
     },
     "execution_count": 21,
     "metadata": {},
     "output_type": "execute_result"
    }
   ],
   "source": [
    "# Predict the training set values.\n",
    "y_pred = lm.predict(x_train) \n",
    "\n",
    "# View the output\n",
    "y_pred"
   ]
  },
  {
   "cell_type": "code",
   "execution_count": 22,
   "id": "1d2844b0",
   "metadata": {},
   "outputs": [
    {
     "data": {
      "image/png": "[encoded data removed]",
      "text/plain": [
       "<Figure size 432x288 with 1 Axes>"
      ]
     },
     "metadata": {
      "needs_background": "light"
     },
     "output_type": "display_data"
    }
   ],
   "source": [
    "# Create a scatterplot with regression line.\n",
    "plt.scatter(x_train, y_train, color = 'red')  \n",
    "plt.plot(x_train, y_pred, color = 'green')\n",
    "\n",
    "# Set the title and legends for the graph.  \n",
    "plt.title(\"Years of Experience vs Ave. Salary\")\n",
    "plt.xlabel(\"Years of Experience\")\n",
    "plt.ylabel(\"Ave. Salary\") \n",
    "\n",
    "# Print the graph. \n",
    "plt.show() "
   ]
  },
  {
   "cell_type": "code",
   "execution_count": 23,
   "id": "70cfbff4",
   "metadata": {},
   "outputs": [
    {
     "name": "stdout",
     "output_type": "stream",
     "text": [
      "R-squared value:  0.9311257752883872\n",
      "Intercept value:  [25792.20019867]\n",
      "Coefficient value:  [[9449.96232146]]\n"
     ]
    }
   ],
   "source": [
    "# Print R-squared value of the test data.\n",
    "print(\"R-squared value: \", lm.score(x_train, y_train)) \n",
    "\n",
    "# Print the intercept value.\n",
    "print(\"Intercept value: \", lm.intercept_) \n",
    "\n",
    "# Print the coefficient value.\n",
    "print(\"Coefficient value: \", lm.coef_)"
   ]
  },
  {
   "cell_type": "markdown",
   "id": "7be41696",
   "metadata": {},
   "source": [
    "# Testing the model"
   ]
  },
  {
   "cell_type": "code",
   "execution_count": 24,
   "id": "79eed45b",
   "metadata": {},
   "outputs": [
    {
     "data": {
      "image/png": "[encoded data removed]",
      "text/plain": [
       "<Figure size 432x288 with 1 Axes>"
      ]
     },
     "metadata": {
      "needs_background": "light"
     },
     "output_type": "display_data"
    }
   ],
   "source": [
    "# Predict the test set values.\n",
    "y_pred_test = lm.predict(x_test) \n",
    "\n",
    "# Create a scatterplot with regression line.\n",
    "plt.scatter(x_test, y_test, color = 'red') \n",
    "plt.plot(x_test, y_pred_test, color = 'green')\n",
    "\n",
    "# Set the title and legends for the graph.  \n",
    "plt.title(\"Years of Experience vs Ave. Salary\")\n",
    "plt.xlabel(\"Years of Experience\")\n",
    "plt.ylabel(\"Ave. Salary\") \n",
    "\n",
    "# Print the graph. \n",
    "plt.show() "
   ]
  },
  {
   "cell_type": "code",
   "execution_count": 25,
   "id": "afe60e88",
   "metadata": {},
   "outputs": [
    {
     "name": "stdout",
     "output_type": "stream",
     "text": [
      "R-squared value:  0.9714787358591477\n",
      "Intercept value:  [25792.20019867]\n",
      "Coefficient value:  [[9449.96232146]]\n"
     ]
    }
   ],
   "source": [
    "# Print R-squared value of the test data.\n",
    "print(\"R-squared value: \", lm.score(x_test, y_test)) \n",
    "\n",
    "# Print the intercept value.\n",
    "print(\"Intercept value: \", lm.intercept_) \n",
    "\n",
    "# Print the coefficient value.\n",
    "print(\"Coefficient value: \", lm.coef_)"
   ]
  },
  {
   "cell_type": "code",
   "execution_count": 26,
   "id": "21ac8645",
   "metadata": {},
   "outputs": [
    {
     "name": "stdout",
     "output_type": "stream",
     "text": [
      "Predicted Salary:\n",
      "[[ 73042.01180594]\n",
      " [120291.82341322]\n",
      " [167541.63502049]\n",
      " [214791.44662777]\n",
      " [262041.25823505]\n",
      " [309291.06984232]]\n"
     ]
    }
   ],
   "source": [
    "# Use the predict() method with an array to call the \n",
    "# salaries for each number of years’ experience.\n",
    "predictedSalary = lm.predict([[5], [10], [15], [20], [25], [30]])  \n",
    "\n",
    "# Print the results.\n",
    "print(f\"Predicted Salary:\\n{predictedSalary}\") "
   ]
  },
  {
   "cell_type": "code",
   "execution_count": 27,
   "id": "9fcd054f",
   "metadata": {},
   "outputs": [
    {
     "name": "stdout",
     "output_type": "stream",
     "text": [
      "Predicted Salary:\n",
      "[[356540.8814496 ]\n",
      " [403790.69305687]\n",
      " [451040.50466415]\n",
      " [498290.31627142]]\n"
     ]
    }
   ],
   "source": [
    "# Use the predict() method with an array to call the \n",
    "# salaries for each number of years’ experience.\n",
    "predictedSalary = lm.predict([[35], [40], [45], [50]])  \n",
    "\n",
    "# Print the results.\n",
    "print(f\"Predicted Salary:\\n{predictedSalary}\") "
   ]
  },
  {
   "cell_type": "code",
   "execution_count": null,
   "id": "4ea4f5ac",
   "metadata": {},
   "outputs": [],
   "source": []
  }
 ],
 "metadata": {
  "kernelspec": {
   "display_name": "Python 3 (ipykernel)",
   "language": "python",
   "name": "python3"
  },
  "language_info": {
   "codemirror_mode": {
    "name": "ipython",
    "version": 3
   },
   "file_extension": ".py",
   "mimetype": "text/x-python",
   "name": "python",
   "nbconvert_exporter": "python",
   "pygments_lexer": "ipython3",
   "version": "3.9.12"
  }
 },
 "nbformat": 4,
 "nbformat_minor": 5
}
